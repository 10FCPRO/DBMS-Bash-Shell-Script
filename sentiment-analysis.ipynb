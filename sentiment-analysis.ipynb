{
 "cells": [
  {
   "cell_type": "code",
   "execution_count": 1,
   "id": "652fcf23",
   "metadata": {
    "execution": {
     "iopub.execute_input": "2024-02-22T13:49:19.402616Z",
     "iopub.status.busy": "2024-02-22T13:49:19.402196Z",
     "iopub.status.idle": "2024-02-22T13:49:22.595728Z",
     "shell.execute_reply": "2024-02-22T13:49:22.594704Z"
    },
    "papermill": {
     "duration": 3.204408,
     "end_time": "2024-02-22T13:49:22.598152",
     "exception": false,
     "start_time": "2024-02-22T13:49:19.393744",
     "status": "completed"
    },
    "tags": []
   },
   "outputs": [],
   "source": [
    "#importing libraries\n",
    "import pandas as pd\n",
    "import numpy as np\n",
    "import matplotlib.pyplot as plt\n",
    "import seaborn as sns \n",
    "import nltk #importing the Natural Language toolKit"
   ]
  },
  {
   "cell_type": "code",
   "execution_count": 2,
   "id": "453ec32d",
   "metadata": {
    "execution": {
     "iopub.execute_input": "2024-02-22T13:49:22.612322Z",
     "iopub.status.busy": "2024-02-22T13:49:22.611830Z",
     "iopub.status.idle": "2024-02-22T13:49:22.615890Z",
     "shell.execute_reply": "2024-02-22T13:49:22.615150Z"
    },
    "papermill": {
     "duration": 0.013604,
     "end_time": "2024-02-22T13:49:22.617861",
     "exception": false,
     "start_time": "2024-02-22T13:49:22.604257",
     "status": "completed"
    },
    "tags": []
   },
   "outputs": [],
   "source": [
    "#Setting a style sheet for plots \n",
    "plt.style.use('ggplot')"
   ]
  },
  {
   "cell_type": "code",
   "execution_count": 3,
   "id": "3055b9b4",
   "metadata": {
    "execution": {
     "iopub.execute_input": "2024-02-22T13:49:22.630710Z",
     "iopub.status.busy": "2024-02-22T13:49:22.630262Z",
     "iopub.status.idle": "2024-02-22T13:49:29.399246Z",
     "shell.execute_reply": "2024-02-22T13:49:29.398326Z"
    },
    "papermill": {
     "duration": 6.777822,
     "end_time": "2024-02-22T13:49:29.401482",
     "exception": false,
     "start_time": "2024-02-22T13:49:22.623660",
     "status": "completed"
    },
    "tags": []
   },
   "outputs": [],
   "source": [
    "#Reading in the data\n",
    "df = pd.read_csv('/kaggle/input/amazon-fine-food-reviews/Reviews.csv')"
   ]
  },
  {
   "cell_type": "code",
   "execution_count": 4,
   "id": "c089fead",
   "metadata": {
    "execution": {
     "iopub.execute_input": "2024-02-22T13:49:29.415856Z",
     "iopub.status.busy": "2024-02-22T13:49:29.415541Z",
     "iopub.status.idle": "2024-02-22T13:49:29.421329Z",
     "shell.execute_reply": "2024-02-22T13:49:29.420242Z"
    },
    "papermill": {
     "duration": 0.016315,
     "end_time": "2024-02-22T13:49:29.423695",
     "exception": false,
     "start_time": "2024-02-22T13:49:29.407380",
     "status": "completed"
    },
    "tags": []
   },
   "outputs": [
    {
     "name": "stdout",
     "output_type": "stream",
     "text": [
      "(568454, 10)\n",
      "(500, 10)\n"
     ]
    }
   ],
   "source": [
    "#Down-sampling the dataset as it is too large \n",
    "print (df.shape)\n",
    "df = df.head(500)\n",
    "print(df.shape)"
   ]
  },
  {
   "cell_type": "code",
   "execution_count": 5,
   "id": "cbc844a3",
   "metadata": {
    "execution": {
     "iopub.execute_input": "2024-02-22T13:49:29.436959Z",
     "iopub.status.busy": "2024-02-22T13:49:29.436632Z",
     "iopub.status.idle": "2024-02-22T13:49:29.457616Z",
     "shell.execute_reply": "2024-02-22T13:49:29.456648Z"
    },
    "papermill": {
     "duration": 0.030042,
     "end_time": "2024-02-22T13:49:29.459669",
     "exception": false,
     "start_time": "2024-02-22T13:49:29.429627",
     "status": "completed"
    },
    "tags": []
   },
   "outputs": [
    {
     "data": {
      "text/html": [
       "<div>\n",
       "<style scoped>\n",
       "    .dataframe tbody tr th:only-of-type {\n",
       "        vertical-align: middle;\n",
       "    }\n",
       "\n",
       "    .dataframe tbody tr th {\n",
       "        vertical-align: top;\n",
       "    }\n",
       "\n",
       "    .dataframe thead th {\n",
       "        text-align: right;\n",
       "    }\n",
       "</style>\n",
       "<table border=\"1\" class=\"dataframe\">\n",
       "  <thead>\n",
       "    <tr style=\"text-align: right;\">\n",
       "      <th></th>\n",
       "      <th>Id</th>\n",
       "      <th>ProductId</th>\n",
       "      <th>UserId</th>\n",
       "      <th>ProfileName</th>\n",
       "      <th>HelpfulnessNumerator</th>\n",
       "      <th>HelpfulnessDenominator</th>\n",
       "      <th>Score</th>\n",
       "      <th>Time</th>\n",
       "      <th>Summary</th>\n",
       "      <th>Text</th>\n",
       "    </tr>\n",
       "  </thead>\n",
       "  <tbody>\n",
       "    <tr>\n",
       "      <th>0</th>\n",
       "      <td>1</td>\n",
       "      <td>B001E4KFG0</td>\n",
       "      <td>A3SGXH7AUHU8GW</td>\n",
       "      <td>delmartian</td>\n",
       "      <td>1</td>\n",
       "      <td>1</td>\n",
       "      <td>5</td>\n",
       "      <td>1303862400</td>\n",
       "      <td>Good Quality Dog Food</td>\n",
       "      <td>I have bought several of the Vitality canned d...</td>\n",
       "    </tr>\n",
       "    <tr>\n",
       "      <th>1</th>\n",
       "      <td>2</td>\n",
       "      <td>B00813GRG4</td>\n",
       "      <td>A1D87F6ZCVE5NK</td>\n",
       "      <td>dll pa</td>\n",
       "      <td>0</td>\n",
       "      <td>0</td>\n",
       "      <td>1</td>\n",
       "      <td>1346976000</td>\n",
       "      <td>Not as Advertised</td>\n",
       "      <td>Product arrived labeled as Jumbo Salted Peanut...</td>\n",
       "    </tr>\n",
       "    <tr>\n",
       "      <th>2</th>\n",
       "      <td>3</td>\n",
       "      <td>B000LQOCH0</td>\n",
       "      <td>ABXLMWJIXXAIN</td>\n",
       "      <td>Natalia Corres \"Natalia Corres\"</td>\n",
       "      <td>1</td>\n",
       "      <td>1</td>\n",
       "      <td>4</td>\n",
       "      <td>1219017600</td>\n",
       "      <td>\"Delight\" says it all</td>\n",
       "      <td>This is a confection that has been around a fe...</td>\n",
       "    </tr>\n",
       "    <tr>\n",
       "      <th>3</th>\n",
       "      <td>4</td>\n",
       "      <td>B000UA0QIQ</td>\n",
       "      <td>A395BORC6FGVXV</td>\n",
       "      <td>Karl</td>\n",
       "      <td>3</td>\n",
       "      <td>3</td>\n",
       "      <td>2</td>\n",
       "      <td>1307923200</td>\n",
       "      <td>Cough Medicine</td>\n",
       "      <td>If you are looking for the secret ingredient i...</td>\n",
       "    </tr>\n",
       "    <tr>\n",
       "      <th>4</th>\n",
       "      <td>5</td>\n",
       "      <td>B006K2ZZ7K</td>\n",
       "      <td>A1UQRSCLF8GW1T</td>\n",
       "      <td>Michael D. Bigham \"M. Wassir\"</td>\n",
       "      <td>0</td>\n",
       "      <td>0</td>\n",
       "      <td>5</td>\n",
       "      <td>1350777600</td>\n",
       "      <td>Great taffy</td>\n",
       "      <td>Great taffy at a great price.  There was a wid...</td>\n",
       "    </tr>\n",
       "    <tr>\n",
       "      <th>5</th>\n",
       "      <td>6</td>\n",
       "      <td>B006K2ZZ7K</td>\n",
       "      <td>ADT0SRK1MGOEU</td>\n",
       "      <td>Twoapennything</td>\n",
       "      <td>0</td>\n",
       "      <td>0</td>\n",
       "      <td>4</td>\n",
       "      <td>1342051200</td>\n",
       "      <td>Nice Taffy</td>\n",
       "      <td>I got a wild hair for taffy and ordered this f...</td>\n",
       "    </tr>\n",
       "    <tr>\n",
       "      <th>6</th>\n",
       "      <td>7</td>\n",
       "      <td>B006K2ZZ7K</td>\n",
       "      <td>A1SP2KVKFXXRU1</td>\n",
       "      <td>David C. Sullivan</td>\n",
       "      <td>0</td>\n",
       "      <td>0</td>\n",
       "      <td>5</td>\n",
       "      <td>1340150400</td>\n",
       "      <td>Great!  Just as good as the expensive brands!</td>\n",
       "      <td>This saltwater taffy had great flavors and was...</td>\n",
       "    </tr>\n",
       "    <tr>\n",
       "      <th>7</th>\n",
       "      <td>8</td>\n",
       "      <td>B006K2ZZ7K</td>\n",
       "      <td>A3JRGQVEQN31IQ</td>\n",
       "      <td>Pamela G. Williams</td>\n",
       "      <td>0</td>\n",
       "      <td>0</td>\n",
       "      <td>5</td>\n",
       "      <td>1336003200</td>\n",
       "      <td>Wonderful, tasty taffy</td>\n",
       "      <td>This taffy is so good.  It is very soft and ch...</td>\n",
       "    </tr>\n",
       "    <tr>\n",
       "      <th>8</th>\n",
       "      <td>9</td>\n",
       "      <td>B000E7L2R4</td>\n",
       "      <td>A1MZYO9TZK0BBI</td>\n",
       "      <td>R. James</td>\n",
       "      <td>1</td>\n",
       "      <td>1</td>\n",
       "      <td>5</td>\n",
       "      <td>1322006400</td>\n",
       "      <td>Yay Barley</td>\n",
       "      <td>Right now I'm mostly just sprouting this so my...</td>\n",
       "    </tr>\n",
       "    <tr>\n",
       "      <th>9</th>\n",
       "      <td>10</td>\n",
       "      <td>B00171APVA</td>\n",
       "      <td>A21BT40VZCCYT4</td>\n",
       "      <td>Carol A. Reed</td>\n",
       "      <td>0</td>\n",
       "      <td>0</td>\n",
       "      <td>5</td>\n",
       "      <td>1351209600</td>\n",
       "      <td>Healthy Dog Food</td>\n",
       "      <td>This is a very healthy dog food. Good for thei...</td>\n",
       "    </tr>\n",
       "  </tbody>\n",
       "</table>\n",
       "</div>"
      ],
      "text/plain": [
       "   Id   ProductId          UserId                      ProfileName  \\\n",
       "0   1  B001E4KFG0  A3SGXH7AUHU8GW                       delmartian   \n",
       "1   2  B00813GRG4  A1D87F6ZCVE5NK                           dll pa   \n",
       "2   3  B000LQOCH0   ABXLMWJIXXAIN  Natalia Corres \"Natalia Corres\"   \n",
       "3   4  B000UA0QIQ  A395BORC6FGVXV                             Karl   \n",
       "4   5  B006K2ZZ7K  A1UQRSCLF8GW1T    Michael D. Bigham \"M. Wassir\"   \n",
       "5   6  B006K2ZZ7K   ADT0SRK1MGOEU                   Twoapennything   \n",
       "6   7  B006K2ZZ7K  A1SP2KVKFXXRU1                David C. Sullivan   \n",
       "7   8  B006K2ZZ7K  A3JRGQVEQN31IQ               Pamela G. Williams   \n",
       "8   9  B000E7L2R4  A1MZYO9TZK0BBI                         R. James   \n",
       "9  10  B00171APVA  A21BT40VZCCYT4                    Carol A. Reed   \n",
       "\n",
       "   HelpfulnessNumerator  HelpfulnessDenominator  Score        Time  \\\n",
       "0                     1                       1      5  1303862400   \n",
       "1                     0                       0      1  1346976000   \n",
       "2                     1                       1      4  1219017600   \n",
       "3                     3                       3      2  1307923200   \n",
       "4                     0                       0      5  1350777600   \n",
       "5                     0                       0      4  1342051200   \n",
       "6                     0                       0      5  1340150400   \n",
       "7                     0                       0      5  1336003200   \n",
       "8                     1                       1      5  1322006400   \n",
       "9                     0                       0      5  1351209600   \n",
       "\n",
       "                                         Summary  \\\n",
       "0                          Good Quality Dog Food   \n",
       "1                              Not as Advertised   \n",
       "2                          \"Delight\" says it all   \n",
       "3                                 Cough Medicine   \n",
       "4                                    Great taffy   \n",
       "5                                     Nice Taffy   \n",
       "6  Great!  Just as good as the expensive brands!   \n",
       "7                         Wonderful, tasty taffy   \n",
       "8                                     Yay Barley   \n",
       "9                               Healthy Dog Food   \n",
       "\n",
       "                                                Text  \n",
       "0  I have bought several of the Vitality canned d...  \n",
       "1  Product arrived labeled as Jumbo Salted Peanut...  \n",
       "2  This is a confection that has been around a fe...  \n",
       "3  If you are looking for the secret ingredient i...  \n",
       "4  Great taffy at a great price.  There was a wid...  \n",
       "5  I got a wild hair for taffy and ordered this f...  \n",
       "6  This saltwater taffy had great flavors and was...  \n",
       "7  This taffy is so good.  It is very soft and ch...  \n",
       "8  Right now I'm mostly just sprouting this so my...  \n",
       "9  This is a very healthy dog food. Good for thei...  "
      ]
     },
     "execution_count": 5,
     "metadata": {},
     "output_type": "execute_result"
    }
   ],
   "source": [
    "df.head(10)"
   ]
  },
  {
   "cell_type": "code",
   "execution_count": 6,
   "id": "e61af3cb",
   "metadata": {
    "execution": {
     "iopub.execute_input": "2024-02-22T13:49:29.473438Z",
     "iopub.status.busy": "2024-02-22T13:49:29.473068Z",
     "iopub.status.idle": "2024-02-22T13:49:29.480881Z",
     "shell.execute_reply": "2024-02-22T13:49:29.479920Z"
    },
    "papermill": {
     "duration": 0.017136,
     "end_time": "2024-02-22T13:49:29.482957",
     "exception": false,
     "start_time": "2024-02-22T13:49:29.465821",
     "status": "completed"
    },
    "tags": []
   },
   "outputs": [
    {
     "data": {
      "text/plain": [
       "'I have bought several of the Vitality canned dog food products and have found them all to be of good quality. The product looks more like a stew than a processed meat and it smells better. My Labrador is finicky and she appreciates this product better than  most.'"
      ]
     },
     "execution_count": 6,
     "metadata": {},
     "output_type": "execute_result"
    }
   ],
   "source": [
    "#The first review\n",
    "df['Text'].values[0]"
   ]
  },
  {
   "cell_type": "markdown",
   "id": "514a9669",
   "metadata": {
    "papermill": {
     "duration": 0.005857,
     "end_time": "2024-02-22T13:49:29.495206",
     "exception": false,
     "start_time": "2024-02-22T13:49:29.489349",
     "status": "completed"
    },
    "tags": []
   },
   "source": [
    "# EDA"
   ]
  },
  {
   "cell_type": "code",
   "execution_count": 7,
   "id": "4156a23f",
   "metadata": {
    "execution": {
     "iopub.execute_input": "2024-02-22T13:49:29.510223Z",
     "iopub.status.busy": "2024-02-22T13:49:29.509818Z",
     "iopub.status.idle": "2024-02-22T13:49:29.525412Z",
     "shell.execute_reply": "2024-02-22T13:49:29.524345Z"
    },
    "papermill": {
     "duration": 0.02675,
     "end_time": "2024-02-22T13:49:29.528022",
     "exception": false,
     "start_time": "2024-02-22T13:49:29.501272",
     "status": "completed"
    },
    "tags": []
   },
   "outputs": [
    {
     "data": {
      "text/plain": [
       "Score\n",
       "5    339\n",
       "4     70\n",
       "3     37\n",
       "1     36\n",
       "2     18\n",
       "Name: count, dtype: int64"
      ]
     },
     "execution_count": 7,
     "metadata": {},
     "output_type": "execute_result"
    }
   ],
   "source": [
    "#Scores from 1 to 5\n",
    "df['Score'].value_counts()"
   ]
  },
  {
   "cell_type": "code",
   "execution_count": 8,
   "id": "0be3a8b2",
   "metadata": {
    "execution": {
     "iopub.execute_input": "2024-02-22T13:49:29.543965Z",
     "iopub.status.busy": "2024-02-22T13:49:29.543582Z",
     "iopub.status.idle": "2024-02-22T13:49:29.783824Z",
     "shell.execute_reply": "2024-02-22T13:49:29.782772Z"
    },
    "papermill": {
     "duration": 0.251018,
     "end_time": "2024-02-22T13:49:29.785827",
     "exception": false,
     "start_time": "2024-02-22T13:49:29.534809",
     "status": "completed"
    },
    "tags": []
   },
   "outputs": [
    {
     "data": {
      "image/png": "[encoded data removed]",
      "text/plain": [
       "<Figure size 1000x600 with 1 Axes>"
      ]
     },
     "metadata": {},
     "output_type": "display_data"
    }
   ],
   "source": [
    "a = df['Score'].value_counts().sort_index().plot(kind='bar', title = 'Count Of Reviews', figsize=(10,6), color='purple')\n",
    "a.set_xlabel('Review Scores')\n",
    "a.set_ylabel('Number Of People')\n",
    "plt.show()\n",
    "#Biased towards positive reviews by customers"
   ]
  },
  {
   "cell_type": "markdown",
   "id": "f3c5e8ea",
   "metadata": {
    "papermill": {
     "duration": 0.006242,
     "end_time": "2024-02-22T13:49:29.799016",
     "exception": false,
     "start_time": "2024-02-22T13:49:29.792774",
     "status": "completed"
    },
    "tags": []
   },
   "source": [
    "# Basics of NLTk"
   ]
  },
  {
   "cell_type": "code",
   "execution_count": 9,
   "id": "d3860a9f",
   "metadata": {
    "execution": {
     "iopub.execute_input": "2024-02-22T13:49:29.815067Z",
     "iopub.status.busy": "2024-02-22T13:49:29.814713Z",
     "iopub.status.idle": "2024-02-22T13:49:29.820671Z",
     "shell.execute_reply": "2024-02-22T13:49:29.819444Z"
    },
    "papermill": {
     "duration": 0.016529,
     "end_time": "2024-02-22T13:49:29.822616",
     "exception": false,
     "start_time": "2024-02-22T13:49:29.806087",
     "status": "completed"
    },
    "tags": []
   },
   "outputs": [
    {
     "name": "stdout",
     "output_type": "stream",
     "text": [
      "My husband is a Twizzlers addict.  We've bought these many times from Amazon because we're government employees living overseas and can't get them in the country we are assigned to.  They've always been fresh and tasty, packed well and arrive in a timely manner.\n"
     ]
    }
   ],
   "source": [
    "#Showing off the 20th food review\n",
    "example = df['Text'][20]\n",
    "print(example)"
   ]
  },
  {
   "cell_type": "code",
   "execution_count": 10,
   "id": "c1dd77f2",
   "metadata": {
    "execution": {
     "iopub.execute_input": "2024-02-22T13:49:29.838708Z",
     "iopub.status.busy": "2024-02-22T13:49:29.838375Z",
     "iopub.status.idle": "2024-02-22T13:49:29.856488Z",
     "shell.execute_reply": "2024-02-22T13:49:29.855530Z"
    },
    "papermill": {
     "duration": 0.027897,
     "end_time": "2024-02-22T13:49:29.858420",
     "exception": false,
     "start_time": "2024-02-22T13:49:29.830523",
     "status": "completed"
    },
    "tags": []
   },
   "outputs": [
    {
     "data": {
      "text/plain": [
       "['My', 'husband', 'is', 'a', 'Twizzlers', 'addict']"
      ]
     },
     "execution_count": 10,
     "metadata": {},
     "output_type": "execute_result"
    }
   ],
   "source": [
    "#Tokenizing - splitting the sentence into words\n",
    "token = nltk.word_tokenize(example)\n",
    "token[:6]"
   ]
  },
  {
   "cell_type": "code",
   "execution_count": 11,
   "id": "4a8ed6ef",
   "metadata": {
    "execution": {
     "iopub.execute_input": "2024-02-22T13:49:29.874493Z",
     "iopub.status.busy": "2024-02-22T13:49:29.874115Z",
     "iopub.status.idle": "2024-02-22T13:49:29.974793Z",
     "shell.execute_reply": "2024-02-22T13:49:29.973400Z"
    },
    "papermill": {
     "duration": 0.111922,
     "end_time": "2024-02-22T13:49:29.977145",
     "exception": false,
     "start_time": "2024-02-22T13:49:29.865223",
     "status": "completed"
    },
    "tags": []
   },
   "outputs": [
    {
     "data": {
      "text/plain": [
       "[('My', 'PRP$'),\n",
       " ('husband', 'NN'),\n",
       " ('is', 'VBZ'),\n",
       " ('a', 'DT'),\n",
       " ('Twizzlers', 'NNP'),\n",
       " ('addict', 'NN')]"
      ]
     },
     "execution_count": 11,
     "metadata": {},
     "output_type": "execute_result"
    }
   ],
   "source": [
    "#Finding the parts  of speech (POS)\n",
    "pos = nltk.pos_tag(token)\n",
    "pos[:6]"
   ]
  },
  {
   "cell_type": "code",
   "execution_count": 12,
   "id": "46415f6f",
   "metadata": {
    "execution": {
     "iopub.execute_input": "2024-02-22T13:49:29.993170Z",
     "iopub.status.busy": "2024-02-22T13:49:29.992775Z",
     "iopub.status.idle": "2024-02-22T13:49:30.098695Z",
     "shell.execute_reply": "2024-02-22T13:49:30.097266Z"
    },
    "papermill": {
     "duration": 0.116315,
     "end_time": "2024-02-22T13:49:30.100587",
     "exception": false,
     "start_time": "2024-02-22T13:49:29.984272",
     "status": "completed"
    },
    "tags": []
   },
   "outputs": [
    {
     "name": "stdout",
     "output_type": "stream",
     "text": [
      "(S\n",
      "  My/PRP$\n",
      "  husband/NN\n",
      "  is/VBZ\n",
      "  a/DT\n",
      "  Twizzlers/NNP\n",
      "  addict/NN\n",
      "  ./.\n",
      "  We/PRP\n",
      "  've/VBP\n",
      "  bought/VBN\n",
      "  these/DT\n",
      "  many/JJ\n",
      "  times/NNS\n",
      "  from/IN\n",
      "  (GPE Amazon/NNP)\n",
      "  because/IN\n",
      "  we/PRP\n",
      "  're/VBP\n",
      "  government/NN\n",
      "  employees/NNS\n",
      "  living/VBG\n",
      "  overseas/RB\n",
      "  and/CC\n",
      "  ca/MD\n",
      "  n't/RB\n",
      "  get/VB\n",
      "  them/PRP\n",
      "  in/IN\n",
      "  the/DT\n",
      "  country/NN\n",
      "  we/PRP\n",
      "  are/VBP\n",
      "  assigned/VBN\n",
      "  to/TO\n",
      "  ./.\n",
      "  They/PRP\n",
      "  've/VBP\n",
      "  always/RB\n",
      "  been/VBN\n",
      "  fresh/JJ\n",
      "  and/CC\n",
      "  tasty/JJ\n",
      "  ,/,\n",
      "  packed/VBN\n",
      "  well/RB\n",
      "  and/CC\n",
      "  arrive/JJ\n",
      "  in/IN\n",
      "  a/DT\n",
      "  timely/JJ\n",
      "  manner/NN\n",
      "  ./.)\n"
     ]
    }
   ],
   "source": [
    "entities =nltk.chunk.ne_chunk(pos)\n",
    "entities.pprint()"
   ]
  },
  {
   "cell_type": "markdown",
   "id": "037fda59",
   "metadata": {
    "papermill": {
     "duration": 0.006526,
     "end_time": "2024-02-22T13:49:30.114220",
     "exception": false,
     "start_time": "2024-02-22T13:49:30.107694",
     "status": "completed"
    },
    "tags": []
   },
   "source": [
    "# Using VADER Sentiment Scoring\n",
    "* Uses a \"bag of words\" approach\n",
    "* Stop words are removed (Like the/and/so)\n",
    "* Has a value of positive, negative or neutral for each of the words \n",
    "* Each word is scored and combined to a total score "
   ]
  },
  {
   "cell_type": "code",
   "execution_count": 13,
   "id": "524ca54a",
   "metadata": {
    "execution": {
     "iopub.execute_input": "2024-02-22T13:49:30.129478Z",
     "iopub.status.busy": "2024-02-22T13:49:30.129122Z",
     "iopub.status.idle": "2024-02-22T13:49:30.165762Z",
     "shell.execute_reply": "2024-02-22T13:49:30.164546Z"
    },
    "papermill": {
     "duration": 0.047059,
     "end_time": "2024-02-22T13:49:30.167913",
     "exception": false,
     "start_time": "2024-02-22T13:49:30.120854",
     "status": "completed"
    },
    "tags": []
   },
   "outputs": [
    {
     "name": "stderr",
     "output_type": "stream",
     "text": [
      "/opt/conda/lib/python3.10/site-packages/nltk/twitter/__init__.py:20: UserWarning: The twython library has not been installed. Some functionality from the twitter package will not be available.\n",
      "  warnings.warn(\"The twython library has not been installed. \"\n"
     ]
    }
   ],
   "source": [
    "from nltk.sentiment import SentimentIntensityAnalyzer\n",
    "from tqdm.notebook import tqdm #A progress bar tracker\n",
    "\n",
    "sa = SentimentIntensityAnalyzer()"
   ]
  },
  {
   "cell_type": "markdown",
   "id": "310a6d9b",
   "metadata": {
    "papermill": {
     "duration": 0.006729,
     "end_time": "2024-02-22T13:49:30.181951",
     "exception": false,
     "start_time": "2024-02-22T13:49:30.175222",
     "status": "completed"
    },
    "tags": []
   },
   "source": [
    "**Polarity Scores Samples**"
   ]
  },
  {
   "cell_type": "code",
   "execution_count": 14,
   "id": "6e64a3a8",
   "metadata": {
    "execution": {
     "iopub.execute_input": "2024-02-22T13:49:30.197704Z",
     "iopub.status.busy": "2024-02-22T13:49:30.197158Z",
     "iopub.status.idle": "2024-02-22T13:49:30.201895Z",
     "shell.execute_reply": "2024-02-22T13:49:30.201333Z"
    },
    "papermill": {
     "duration": 0.014679,
     "end_time": "2024-02-22T13:49:30.203625",
     "exception": false,
     "start_time": "2024-02-22T13:49:30.188946",
     "status": "completed"
    },
    "tags": []
   },
   "outputs": [
    {
     "data": {
      "text/plain": [
       "{'neg': 0.666, 'neu': 0.334, 'pos': 0.0, 'compound': -0.6114}"
      ]
     },
     "execution_count": 14,
     "metadata": {},
     "output_type": "execute_result"
    }
   ],
   "source": [
    "#Sample 1\n",
    "sa.polarity_scores('I hate the stew!')\n",
    "#mostly negatove as neg: -0.666"
   ]
  },
  {
   "cell_type": "code",
   "execution_count": 15,
   "id": "f2e04c3e",
   "metadata": {
    "execution": {
     "iopub.execute_input": "2024-02-22T13:49:30.220399Z",
     "iopub.status.busy": "2024-02-22T13:49:30.220031Z",
     "iopub.status.idle": "2024-02-22T13:49:30.226252Z",
     "shell.execute_reply": "2024-02-22T13:49:30.224800Z"
    },
    "papermill": {
     "duration": 0.017213,
     "end_time": "2024-02-22T13:49:30.228386",
     "exception": false,
     "start_time": "2024-02-22T13:49:30.211173",
     "status": "completed"
    },
    "tags": []
   },
   "outputs": [
    {
     "data": {
      "text/plain": [
       "{'neg': 0.0, 'neu': 0.589, 'pos': 0.411, 'compound': 0.5411}"
      ]
     },
     "execution_count": 15,
     "metadata": {},
     "output_type": "execute_result"
    }
   ],
   "source": [
    "#Sample 2\n",
    "sa.polarity_scores('This is the nicest snack ever!')"
   ]
  },
  {
   "cell_type": "markdown",
   "id": "2a039afb",
   "metadata": {
    "papermill": {
     "duration": 0.006928,
     "end_time": "2024-02-22T13:49:30.242649",
     "exception": false,
     "start_time": "2024-02-22T13:49:30.235721",
     "status": "completed"
    },
    "tags": []
   },
   "source": [
    "**Example:** My husband is a Twizzlers addict.  We've bought these many times from Amazon because we're government employees living overseas and can't get them in the country we are assigned to.  They've always been fresh and tasty, packed well and arrive in a timely manner."
   ]
  },
  {
   "cell_type": "code",
   "execution_count": 16,
   "id": "9e3cc465",
   "metadata": {
    "execution": {
     "iopub.execute_input": "2024-02-22T13:49:30.258584Z",
     "iopub.status.busy": "2024-02-22T13:49:30.258230Z",
     "iopub.status.idle": "2024-02-22T13:49:30.264670Z",
     "shell.execute_reply": "2024-02-22T13:49:30.263828Z"
    },
    "papermill": {
     "duration": 0.017061,
     "end_time": "2024-02-22T13:49:30.266876",
     "exception": false,
     "start_time": "2024-02-22T13:49:30.249815",
     "status": "completed"
    },
    "tags": []
   },
   "outputs": [
    {
     "data": {
      "text/plain": [
       "{'neg': 0.0, 'neu': 0.865, 'pos': 0.135, 'compound': 0.6249}"
      ]
     },
     "execution_count": 16,
     "metadata": {},
     "output_type": "execute_result"
    }
   ],
   "source": [
    "#Example polarityis more on the positive side\n",
    "sa.polarity_scores(example)\n"
   ]
  },
  {
   "cell_type": "code",
   "execution_count": 17,
   "id": "9b0ae7ee",
   "metadata": {
    "execution": {
     "iopub.execute_input": "2024-02-22T13:49:30.284742Z",
     "iopub.status.busy": "2024-02-22T13:49:30.284384Z",
     "iopub.status.idle": "2024-02-22T13:49:30.745086Z",
     "shell.execute_reply": "2024-02-22T13:49:30.744039Z"
    },
    "papermill": {
     "duration": 0.472329,
     "end_time": "2024-02-22T13:49:30.747441",
     "exception": false,
     "start_time": "2024-02-22T13:49:30.275112",
     "status": "completed"
    },
    "tags": []
   },
   "outputs": [
    {
     "data": {
      "application/vnd.jupyter.widget-view+json": {
       "model_id": "2042a18ad5dc4a2492cae62cf6022dac",
       "version_major": 2,
       "version_minor": 0
      },
      "text/plain": [
       "  0%|          | 0/500 [00:00<?, ?it/s]"
      ]
     },
     "metadata": {},
     "output_type": "display_data"
    }
   ],
   "source": [
    "#Running the polarity score on the whole dataset\n",
    "result = {} #a dictionary to store the polarity scores\n",
    "for i, row in tqdm(df.iterrows(), total=len(df)):\n",
    "    text = row['Text']\n",
    "    myid = row['Id']\n",
    "    result[myid]= sa.polarity_scores(text)\n",
    "    "
   ]
  },
  {
   "cell_type": "code",
   "execution_count": 18,
   "id": "d0ed5fc8",
   "metadata": {
    "execution": {
     "iopub.execute_input": "2024-02-22T13:49:30.764497Z",
     "iopub.status.busy": "2024-02-22T13:49:30.764058Z",
     "iopub.status.idle": "2024-02-22T13:49:30.786673Z",
     "shell.execute_reply": "2024-02-22T13:49:30.785741Z"
    },
    "papermill": {
     "duration": 0.033655,
     "end_time": "2024-02-22T13:49:30.788789",
     "exception": false,
     "start_time": "2024-02-22T13:49:30.755134",
     "status": "completed"
    },
    "tags": []
   },
   "outputs": [],
   "source": [
    "#Result of the 500 reviews whether positive, negative or neutral\n",
    "vaders = pd.DataFrame(result).T\n",
    "vaders = vaders.reset_index().rename(columns={'index': 'Id'})\n",
    "vaders = vaders.merge(df, how = 'left') #merging it to the original dataframe"
   ]
  },
  {
   "cell_type": "markdown",
   "id": "7b7ac551",
   "metadata": {
    "papermill": {
     "duration": 0.007385,
     "end_time": "2024-02-22T13:49:30.804056",
     "exception": false,
     "start_time": "2024-02-22T13:49:30.796671",
     "status": "completed"
    },
    "tags": []
   },
   "source": [
    "**Merging the (positive, neutral, and negative) values to the original dataframe**"
   ]
  },
  {
   "cell_type": "code",
   "execution_count": 19,
   "id": "2c4dc944",
   "metadata": {
    "execution": {
     "iopub.execute_input": "2024-02-22T13:49:30.820777Z",
     "iopub.status.busy": "2024-02-22T13:49:30.820427Z",
     "iopub.status.idle": "2024-02-22T13:49:30.837097Z",
     "shell.execute_reply": "2024-02-22T13:49:30.835523Z"
    },
    "papermill": {
     "duration": 0.027646,
     "end_time": "2024-02-22T13:49:30.839164",
     "exception": false,
     "start_time": "2024-02-22T13:49:30.811518",
     "status": "completed"
    },
    "tags": []
   },
   "outputs": [
    {
     "data": {
      "text/html": [
       "<div>\n",
       "<style scoped>\n",
       "    .dataframe tbody tr th:only-of-type {\n",
       "        vertical-align: middle;\n",
       "    }\n",
       "\n",
       "    .dataframe tbody tr th {\n",
       "        vertical-align: top;\n",
       "    }\n",
       "\n",
       "    .dataframe thead th {\n",
       "        text-align: right;\n",
       "    }\n",
       "</style>\n",
       "<table border=\"1\" class=\"dataframe\">\n",
       "  <thead>\n",
       "    <tr style=\"text-align: right;\">\n",
       "      <th></th>\n",
       "      <th>Id</th>\n",
       "      <th>neg</th>\n",
       "      <th>neu</th>\n",
       "      <th>pos</th>\n",
       "      <th>compound</th>\n",
       "      <th>ProductId</th>\n",
       "      <th>UserId</th>\n",
       "      <th>ProfileName</th>\n",
       "      <th>HelpfulnessNumerator</th>\n",
       "      <th>HelpfulnessDenominator</th>\n",
       "      <th>Score</th>\n",
       "      <th>Time</th>\n",
       "      <th>Summary</th>\n",
       "      <th>Text</th>\n",
       "    </tr>\n",
       "  </thead>\n",
       "  <tbody>\n",
       "    <tr>\n",
       "      <th>0</th>\n",
       "      <td>1</td>\n",
       "      <td>0.000</td>\n",
       "      <td>0.695</td>\n",
       "      <td>0.305</td>\n",
       "      <td>0.9441</td>\n",
       "      <td>B001E4KFG0</td>\n",
       "      <td>A3SGXH7AUHU8GW</td>\n",
       "      <td>delmartian</td>\n",
       "      <td>1</td>\n",
       "      <td>1</td>\n",
       "      <td>5</td>\n",
       "      <td>1303862400</td>\n",
       "      <td>Good Quality Dog Food</td>\n",
       "      <td>I have bought several of the Vitality canned d...</td>\n",
       "    </tr>\n",
       "    <tr>\n",
       "      <th>1</th>\n",
       "      <td>2</td>\n",
       "      <td>0.079</td>\n",
       "      <td>0.853</td>\n",
       "      <td>0.068</td>\n",
       "      <td>-0.1027</td>\n",
       "      <td>B00813GRG4</td>\n",
       "      <td>A1D87F6ZCVE5NK</td>\n",
       "      <td>dll pa</td>\n",
       "      <td>0</td>\n",
       "      <td>0</td>\n",
       "      <td>1</td>\n",
       "      <td>1346976000</td>\n",
       "      <td>Not as Advertised</td>\n",
       "      <td>Product arrived labeled as Jumbo Salted Peanut...</td>\n",
       "    </tr>\n",
       "    <tr>\n",
       "      <th>2</th>\n",
       "      <td>3</td>\n",
       "      <td>0.091</td>\n",
       "      <td>0.754</td>\n",
       "      <td>0.155</td>\n",
       "      <td>0.8265</td>\n",
       "      <td>B000LQOCH0</td>\n",
       "      <td>ABXLMWJIXXAIN</td>\n",
       "      <td>Natalia Corres \"Natalia Corres\"</td>\n",
       "      <td>1</td>\n",
       "      <td>1</td>\n",
       "      <td>4</td>\n",
       "      <td>1219017600</td>\n",
       "      <td>\"Delight\" says it all</td>\n",
       "      <td>This is a confection that has been around a fe...</td>\n",
       "    </tr>\n",
       "    <tr>\n",
       "      <th>3</th>\n",
       "      <td>4</td>\n",
       "      <td>0.000</td>\n",
       "      <td>1.000</td>\n",
       "      <td>0.000</td>\n",
       "      <td>0.0000</td>\n",
       "      <td>B000UA0QIQ</td>\n",
       "      <td>A395BORC6FGVXV</td>\n",
       "      <td>Karl</td>\n",
       "      <td>3</td>\n",
       "      <td>3</td>\n",
       "      <td>2</td>\n",
       "      <td>1307923200</td>\n",
       "      <td>Cough Medicine</td>\n",
       "      <td>If you are looking for the secret ingredient i...</td>\n",
       "    </tr>\n",
       "    <tr>\n",
       "      <th>4</th>\n",
       "      <td>5</td>\n",
       "      <td>0.000</td>\n",
       "      <td>0.552</td>\n",
       "      <td>0.448</td>\n",
       "      <td>0.9468</td>\n",
       "      <td>B006K2ZZ7K</td>\n",
       "      <td>A1UQRSCLF8GW1T</td>\n",
       "      <td>Michael D. Bigham \"M. Wassir\"</td>\n",
       "      <td>0</td>\n",
       "      <td>0</td>\n",
       "      <td>5</td>\n",
       "      <td>1350777600</td>\n",
       "      <td>Great taffy</td>\n",
       "      <td>Great taffy at a great price.  There was a wid...</td>\n",
       "    </tr>\n",
       "  </tbody>\n",
       "</table>\n",
       "</div>"
      ],
      "text/plain": [
       "   Id    neg    neu    pos  compound   ProductId          UserId  \\\n",
       "0   1  0.000  0.695  0.305    0.9441  B001E4KFG0  A3SGXH7AUHU8GW   \n",
       "1   2  0.079  0.853  0.068   -0.1027  B00813GRG4  A1D87F6ZCVE5NK   \n",
       "2   3  0.091  0.754  0.155    0.8265  B000LQOCH0   ABXLMWJIXXAIN   \n",
       "3   4  0.000  1.000  0.000    0.0000  B000UA0QIQ  A395BORC6FGVXV   \n",
       "4   5  0.000  0.552  0.448    0.9468  B006K2ZZ7K  A1UQRSCLF8GW1T   \n",
       "\n",
       "                       ProfileName  HelpfulnessNumerator  \\\n",
       "0                       delmartian                     1   \n",
       "1                           dll pa                     0   \n",
       "2  Natalia Corres \"Natalia Corres\"                     1   \n",
       "3                             Karl                     3   \n",
       "4    Michael D. Bigham \"M. Wassir\"                     0   \n",
       "\n",
       "   HelpfulnessDenominator  Score        Time                Summary  \\\n",
       "0                       1      5  1303862400  Good Quality Dog Food   \n",
       "1                       0      1  1346976000      Not as Advertised   \n",
       "2                       1      4  1219017600  \"Delight\" says it all   \n",
       "3                       3      2  1307923200         Cough Medicine   \n",
       "4                       0      5  1350777600            Great taffy   \n",
       "\n",
       "                                                Text  \n",
       "0  I have bought several of the Vitality canned d...  \n",
       "1  Product arrived labeled as Jumbo Salted Peanut...  \n",
       "2  This is a confection that has been around a fe...  \n",
       "3  If you are looking for the secret ingredient i...  \n",
       "4  Great taffy at a great price.  There was a wid...  "
      ]
     },
     "execution_count": 19,
     "metadata": {},
     "output_type": "execute_result"
    }
   ],
   "source": [
    "vaders.head(5)"
   ]
  },
  {
   "cell_type": "markdown",
   "id": "e3176c06",
   "metadata": {
    "papermill": {
     "duration": 0.007762,
     "end_time": "2024-02-22T13:49:30.855355",
     "exception": false,
     "start_time": "2024-02-22T13:49:30.847593",
     "status": "completed"
    },
    "tags": []
   },
   "source": [
    "# **Vader Plotting Results**"
   ]
  },
  {
   "cell_type": "code",
   "execution_count": 20,
   "id": "80fc1685",
   "metadata": {
    "execution": {
     "iopub.execute_input": "2024-02-22T13:49:30.872690Z",
     "iopub.status.busy": "2024-02-22T13:49:30.872311Z",
     "iopub.status.idle": "2024-02-22T13:49:31.117778Z",
     "shell.execute_reply": "2024-02-22T13:49:31.116921Z"
    },
    "papermill": {
     "duration": 0.256428,
     "end_time": "2024-02-22T13:49:31.119681",
     "exception": false,
     "start_time": "2024-02-22T13:49:30.863253",
     "status": "completed"
    },
    "tags": []
   },
   "outputs": [
    {
     "data": {
      "image/png": "[encoded data removed]",
      "text/plain": [
       "<Figure size 640x480 with 1 Axes>"
      ]
     },
     "metadata": {},
     "output_type": "display_data"
    }
   ],
   "source": [
    "ax = sns.barplot(data=vaders, x = 'Score', y = 'compound')\n",
    "ax.set_title('Compound Score Of Amazon Fine foods')\n",
    "plt.show()"
   ]
  },
  {
   "cell_type": "markdown",
   "id": "a53e2952",
   "metadata": {
    "papermill": {
     "duration": 0.007802,
     "end_time": "2024-02-22T13:49:31.135797",
     "exception": false,
     "start_time": "2024-02-22T13:49:31.127995",
     "status": "completed"
    },
    "tags": []
   },
   "source": [
    "# Positive Score Vs Neutral Score Vs Negative Score"
   ]
  },
  {
   "cell_type": "code",
   "execution_count": 21,
   "id": "20a7b5e9",
   "metadata": {
    "execution": {
     "iopub.execute_input": "2024-02-22T13:49:31.153809Z",
     "iopub.status.busy": "2024-02-22T13:49:31.153445Z",
     "iopub.status.idle": "2024-02-22T13:49:31.915097Z",
     "shell.execute_reply": "2024-02-22T13:49:31.914398Z"
    },
    "papermill": {
     "duration": 0.773088,
     "end_time": "2024-02-22T13:49:31.916853",
     "exception": false,
     "start_time": "2024-02-22T13:49:31.143765",
     "status": "completed"
    },
    "tags": []
   },
   "outputs": [
    {
     "data": {
      "image/png": "[encoded data removed]",
      "text/plain": [
       "<Figure size 1400x500 with 3 Axes>"
      ]
     },
     "metadata": {},
     "output_type": "display_data"
    }
   ],
   "source": [
    "#Breaking down into positive, negative, and neutral results\n",
    "fig, axs = plt.subplots(1, 3, figsize=(14,5)) #Creating a 1x3 grid for the results\n",
    "sns.barplot(data=vaders, x= 'Score', y= 'pos', ax=axs[0])\n",
    "sns.barplot(data=vaders, x= 'Score', y= 'neu', ax= axs[1])\n",
    "sns.barplot(data=vaders, x= 'Score', y= 'neg', ax=axs[2])\n",
    "axs[0].set_title('Positive Score')\n",
    "axs[1].set_title('Neutral Score')\n",
    "axs[2].set_title('Negative Score')\n",
    "plt.tight_layout()\n",
    "plt.show()\n"
   ]
  },
  {
   "cell_type": "code",
   "execution_count": null,
   "id": "1d21925e",
   "metadata": {
    "papermill": {
     "duration": 0.008233,
     "end_time": "2024-02-22T13:49:31.933889",
     "exception": false,
     "start_time": "2024-02-22T13:49:31.925656",
     "status": "completed"
    },
    "tags": []
   },
   "outputs": [],
   "source": []
  }
 ],
 "metadata": {
  "kaggle": {
   "accelerator": "none",
   "dataSources": [
    {
     "datasetId": 18,
     "sourceId": 2157,
     "sourceType": "datasetVersion"
    }
   ],
   "dockerImageVersionId": 30646,
   "isGpuEnabled": false,
   "isInternetEnabled": false,
   "language": "python",
   "sourceType": "notebook"
  },
  "kernelspec": {
   "display_name": "Python 3",
   "language": "python",
   "name": "python3"
  },
  "language_info": {
   "codemirror_mode": {
    "name": "ipython",
    "version": 3
   },
   "file_extension": ".py",
   "mimetype": "text/x-python",
   "name": "python",
   "nbconvert_exporter": "python",
   "pygments_lexer": "ipython3",
   "version": "3.10.13"
  },
  "papermill": {
   "default_parameters": {},
   "duration": 15.637591,
   "end_time": "2024-02-22T13:49:32.663898",
   "environment_variables": {},
   "exception": null,
   "input_path": "__notebook__.ipynb",
   "output_path": "__notebook__.ipynb",
   "parameters": {},
   "start_time": "2024-02-22T13:49:17.026307",
   "version": "2.5.0"
  },
  "widgets": {
   "application/vnd.jupyter.widget-state+json": {
    "state": {
     "0f8046bae8fc4782bd868d9875ed8720": {
      "model_module": "@jupyter-widgets/base",
      "model_module_version": "1.2.0",
      "model_name": "LayoutModel",
      "state": {
       "_model_module": "@jupyter-widgets/base",
       "_model_module_version": "1.2.0",
       "_model_name": "LayoutModel",
       "_view_count": null,
       "_view_module": "@jupyter-widgets/base",
       "_view_module_version": "1.2.0",
       "_view_name": "LayoutView",
       "align_content": null,
       "align_items": null,
       "align_self": null,
       "border": null,
       "bottom": null,
       "display": null,
       "flex": null,
       "flex_flow": null,
       "grid_area": null,
       "grid_auto_columns": null,
       "grid_auto_flow": null,
       "grid_auto_rows": null,
       "grid_column": null,
       "grid_gap": null,
       "grid_row": null,
       "grid_template_areas": null,
       "grid_template_columns": null,
       "grid_template_rows": null,
       "height": null,
       "justify_content": null,
       "justify_items": null,
       "left": null,
       "margin": null,
       "max_height": null,
       "max_width": null,
       "min_height": null,
       "min_width": null,
       "object_fit": null,
       "object_position": null,
       "order": null,
       "overflow": null,
       "overflow_x": null,
       "overflow_y": null,
       "padding": null,
       "right": null,
       "top": null,
       "visibility": null,
       "width": null
      }
     },
     "1e2370b7cb3248eab0107931702a603e": {
      "model_module": "@jupyter-widgets/controls",
      "model_module_version": "1.5.0",
      "model_name": "DescriptionStyleModel",
      "state": {
       "_model_module": "@jupyter-widgets/controls",
       "_model_module_version": "1.5.0",
       "_model_name": "DescriptionStyleModel",
       "_view_count": null,
       "_view_module": "@jupyter-widgets/base",
       "_view_module_version": "1.2.0",
       "_view_name": "StyleView",
       "description_width": ""
      }
     },
     "2042a18ad5dc4a2492cae62cf6022dac": {
      "model_module": "@jupyter-widgets/controls",
      "model_module_version": "1.5.0",
      "model_name": "HBoxModel",
      "state": {
       "_dom_classes": [],
       "_model_module": "@jupyter-widgets/controls",
       "_model_module_version": "1.5.0",
       "_model_name": "HBoxModel",
       "_view_count": null,
       "_view_module": "@jupyter-widgets/controls",
       "_view_module_version": "1.5.0",
       "_view_name": "HBoxView",
       "box_style": "",
       "children": [
        "IPY_MODEL_6a6534b33ba24404bcaf04512bd02f6c",
        "IPY_MODEL_b2b38e9782ba4db6add7f79349470e7b",
        "IPY_MODEL_bfbb934f7d8c44de9cf5ca75c5391969"
       ],
       "layout": "IPY_MODEL_d7da8e84c48c425db3a8de6a65e43fdd"
      }
     },
     "5b657997552745549cfb20d7c7db3dff": {
      "model_module": "@jupyter-widgets/base",
      "model_module_version": "1.2.0",
      "model_name": "LayoutModel",
      "state": {
       "_model_module": "@jupyter-widgets/base",
       "_model_module_version": "1.2.0",
       "_model_name": "LayoutModel",
       "_view_count": null,
       "_view_module": "@jupyter-widgets/base",
       "_view_module_version": "1.2.0",
       "_view_name": "LayoutView",
       "align_content": null,
       "align_items": null,
       "align_self": null,
       "border": null,
       "bottom": null,
       "display": null,
       "flex": null,
       "flex_flow": null,
       "grid_area": null,
       "grid_auto_columns": null,
       "grid_auto_flow": null,
       "grid_auto_rows": null,
       "grid_column": null,
       "grid_gap": null,
       "grid_row": null,
       "grid_template_areas": null,
       "grid_template_columns": null,
       "grid_template_rows": null,
       "height": null,
       "justify_content": null,
       "justify_items": null,
       "left": null,
       "margin": null,
       "max_height": null,
       "max_width": null,
       "min_height": null,
       "min_width": null,
       "object_fit": null,
       "object_position": null,
       "order": null,
       "overflow": null,
       "overflow_x": null,
       "overflow_y": null,
       "padding": null,
       "right": null,
       "top": null,
       "visibility": null,
       "width": null
      }
     },
     "6a6534b33ba24404bcaf04512bd02f6c": {
      "model_module": "@jupyter-widgets/controls",
      "model_module_version": "1.5.0",
      "model_name": "HTMLModel",
      "state": {
       "_dom_classes": [],
       "_model_module": "@jupyter-widgets/controls",
       "_model_module_version": "1.5.0",
       "_model_name": "HTMLModel",
       "_view_count": null,
       "_view_module": "@jupyter-widgets/controls",
       "_view_module_version": "1.5.0",
       "_view_name": "HTMLView",
       "description": "",
       "description_tooltip": null,
       "layout": "IPY_MODEL_be1e66cad6474f4ca1c8adff704f4ea1",
       "placeholder": "​",
       "style": "IPY_MODEL_1e2370b7cb3248eab0107931702a603e",
       "value": "100%"
      }
     },
     "7434fddea5564611a32f8fa4e58be8e9": {
      "model_module": "@jupyter-widgets/controls",
      "model_module_version": "1.5.0",
      "model_name": "ProgressStyleModel",
      "state": {
       "_model_module": "@jupyter-widgets/controls",
       "_model_module_version": "1.5.0",
       "_model_name": "ProgressStyleModel",
       "_view_count": null,
       "_view_module": "@jupyter-widgets/base",
       "_view_module_version": "1.2.0",
       "_view_name": "StyleView",
       "bar_color": null,
       "description_width": ""
      }
     },
     "79e94db659a041eb9b7ceb5dab9ef380": {
      "model_module": "@jupyter-widgets/controls",
      "model_module_version": "1.5.0",
      "model_name": "DescriptionStyleModel",
      "state": {
       "_model_module": "@jupyter-widgets/controls",
       "_model_module_version": "1.5.0",
       "_model_name": "DescriptionStyleModel",
       "_view_count": null,
       "_view_module": "@jupyter-widgets/base",
       "_view_module_version": "1.2.0",
       "_view_name": "StyleView",
       "description_width": ""
      }
     },
     "b2b38e9782ba4db6add7f79349470e7b": {
      "model_module": "@jupyter-widgets/controls",
      "model_module_version": "1.5.0",
      "model_name": "FloatProgressModel",
      "state": {
       "_dom_classes": [],
       "_model_module": "@jupyter-widgets/controls",
       "_model_module_version": "1.5.0",
       "_model_name": "FloatProgressModel",
       "_view_count": null,
       "_view_module": "@jupyter-widgets/controls",
       "_view_module_version": "1.5.0",
       "_view_name": "ProgressView",
       "bar_style": "success",
       "description": "",
       "description_tooltip": null,
       "layout": "IPY_MODEL_0f8046bae8fc4782bd868d9875ed8720",
       "max": 500.0,
       "min": 0.0,
       "orientation": "horizontal",
       "style": "IPY_MODEL_7434fddea5564611a32f8fa4e58be8e9",
       "value": 500.0
      }
     },
     "be1e66cad6474f4ca1c8adff704f4ea1": {
      "model_module": "@jupyter-widgets/base",
      "model_module_version": "1.2.0",
      "model_name": "LayoutModel",
      "state": {
       "_model_module": "@jupyter-widgets/base",
       "_model_module_version": "1.2.0",
       "_model_name": "LayoutModel",
       "_view_count": null,
       "_view_module": "@jupyter-widgets/base",
       "_view_module_version": "1.2.0",
       "_view_name": "LayoutView",
       "align_content": null,
       "align_items": null,
       "align_self": null,
       "border": null,
       "bottom": null,
       "display": null,
       "flex": null,
       "flex_flow": null,
       "grid_area": null,
       "grid_auto_columns": null,
       "grid_auto_flow": null,
       "grid_auto_rows": null,
       "grid_column": null,
       "grid_gap": null,
       "grid_row": null,
       "grid_template_areas": null,
       "grid_template_columns": null,
       "grid_template_rows": null,
       "height": null,
       "justify_content": null,
       "justify_items": null,
       "left": null,
       "margin": null,
       "max_height": null,
       "max_width": null,
       "min_height": null,
       "min_width": null,
       "object_fit": null,
       "object_position": null,
       "order": null,
       "overflow": null,
       "overflow_x": null,
       "overflow_y": null,
       "padding": null,
       "right": null,
       "top": null,
       "visibility": null,
       "width": null
      }
     },
     "bfbb934f7d8c44de9cf5ca75c5391969": {
      "model_module": "@jupyter-widgets/controls",
      "model_module_version": "1.5.0",
      "model_name": "HTMLModel",
      "state": {
       "_dom_classes": [],
       "_model_module": "@jupyter-widgets/controls",
       "_model_module_version": "1.5.0",
       "_model_name": "HTMLModel",
       "_view_count": null,
       "_view_module": "@jupyter-widgets/controls",
       "_view_module_version": "1.5.0",
       "_view_name": "HTMLView",
       "description": "",
       "description_tooltip": null,
       "layout": "IPY_MODEL_5b657997552745549cfb20d7c7db3dff",
       "placeholder": "​",
       "style": "IPY_MODEL_79e94db659a041eb9b7ceb5dab9ef380",
       "value": " 500/500 [00:00&lt;00:00, 1117.10it/s]"
      }
     },
     "d7da8e84c48c425db3a8de6a65e43fdd": {
      "model_module": "@jupyter-widgets/base",
      "model_module_version": "1.2.0",
      "model_name": "LayoutModel",
      "state": {
       "_model_module": "@jupyter-widgets/base",
       "_model_module_version": "1.2.0",
       "_model_name": "LayoutModel",
       "_view_count": null,
       "_view_module": "@jupyter-widgets/base",
       "_view_module_version": "1.2.0",
       "_view_name": "LayoutView",
       "align_content": null,
       "align_items": null,
       "align_self": null,
       "border": null,
       "bottom": null,
       "display": null,
       "flex": null,
       "flex_flow": null,
       "grid_area": null,
       "grid_auto_columns": null,
       "grid_auto_flow": null,
       "grid_auto_rows": null,
       "grid_column": null,
       "grid_gap": null,
       "grid_row": null,
       "grid_template_areas": null,
       "grid_template_columns": null,
       "grid_template_rows": null,
       "height": null,
       "justify_content": null,
       "justify_items": null,
       "left": null,
       "margin": null,
       "max_height": null,
       "max_width": null,
       "min_height": null,
       "min_width": null,
       "object_fit": null,
       "object_position": null,
       "order": null,
       "overflow": null,
       "overflow_x": null,
       "overflow_y": null,
       "padding": null,
       "right": null,
       "top": null,
       "visibility": null,
       "width": null
      }
     }
    },
    "version_major": 2,
    "version_minor": 0
   }
  }
 },
 "nbformat": 4,
 "nbformat_minor": 5
}
