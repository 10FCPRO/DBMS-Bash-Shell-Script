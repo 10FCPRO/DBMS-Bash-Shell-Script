{
 "cells": [
  {
   "cell_type": "code",
   "execution_count": 1,
   "id": "4186678f",
   "metadata": {
    "execution": {
     "iopub.execute_input": "2024-02-22T13:44:54.594222Z",
     "iopub.status.busy": "2024-02-22T13:44:54.593636Z",
     "iopub.status.idle": "2024-02-22T13:44:57.421882Z",
     "shell.execute_reply": "2024-02-22T13:44:57.421071Z"
    },
    "papermill": {
     "duration": 2.838346,
     "end_time": "2024-02-22T13:44:57.423955",
     "exception": false,
     "start_time": "2024-02-22T13:44:54.585609",
     "status": "completed"
    },
    "tags": []
   },
   "outputs": [],
   "source": [
    "#importing libraries\n",
    "import pandas as pd\n",
    "import numpy as np\n",
    "import matplotlib.pyplot as plt\n",
    "import seaborn as sns \n",
    "import nltk #importing the Natural Language toolKit"
   ]
  },
  {
   "cell_type": "code",
   "execution_count": 2,
   "id": "ec5b86a1",
   "metadata": {
    "execution": {
     "iopub.execute_input": "2024-02-22T13:44:57.437028Z",
     "iopub.status.busy": "2024-02-22T13:44:57.436604Z",
     "iopub.status.idle": "2024-02-22T13:44:57.441525Z",
     "shell.execute_reply": "2024-02-22T13:44:57.440551Z"
    },
    "papermill": {
     "duration": 0.013192,
     "end_time": "2024-02-22T13:44:57.443185",
     "exception": false,
     "start_time": "2024-02-22T13:44:57.429993",
     "status": "completed"
    },
    "tags": []
   },
   "outputs": [],
   "source": [
    "#Setting a style sheet for plots \n",
    "plt.style.use('ggplot')"
   ]
  },
  {
   "cell_type": "code",
   "execution_count": 3,
   "id": "9cec0588",
   "metadata": {
    "execution": {
     "iopub.execute_input": "2024-02-22T13:44:57.456379Z",
     "iopub.status.busy": "2024-02-22T13:44:57.456043Z",
     "iopub.status.idle": "2024-02-22T13:45:04.786176Z",
     "shell.execute_reply": "2024-02-22T13:45:04.785079Z"
    },
    "papermill": {
     "duration": 7.339551,
     "end_time": "2024-02-22T13:45:04.788385",
     "exception": false,
     "start_time": "2024-02-22T13:44:57.448834",
     "status": "completed"
    },
    "tags": []
   },
   "outputs": [],
   "source": [
    "#Reading in the data\n",
    "df = pd.read_csv('/kaggle/input/amazon-fine-food-reviews/Reviews.csv')"
   ]
  },
  {
   "cell_type": "code",
   "execution_count": 4,
   "id": "da1297c5",
   "metadata": {
    "execution": {
     "iopub.execute_input": "2024-02-22T13:45:04.801519Z",
     "iopub.status.busy": "2024-02-22T13:45:04.801174Z",
     "iopub.status.idle": "2024-02-22T13:45:04.806877Z",
     "shell.execute_reply": "2024-02-22T13:45:04.805613Z"
    },
    "papermill": {
     "duration": 0.01442,
     "end_time": "2024-02-22T13:45:04.808761",
     "exception": false,
     "start_time": "2024-02-22T13:45:04.794341",
     "status": "completed"
    },
    "tags": []
   },
   "outputs": [
    {
     "name": "stdout",
     "output_type": "stream",
     "text": [
      "(568454, 10)\n",
      "(500, 10)\n"
     ]
    }
   ],
   "source": [
    "#Down-sampling the dataset as it is too large \n",
    "print (df.shape)\n",
    "df = df.head(500)\n",
    "print(df.shape)"
   ]
  },
  {
   "cell_type": "code",
   "execution_count": 5,
   "id": "2527eb85",
   "metadata": {
    "execution": {
     "iopub.execute_input": "2024-02-22T13:45:04.821704Z",
     "iopub.status.busy": "2024-02-22T13:45:04.821398Z",
     "iopub.status.idle": "2024-02-22T13:45:04.840804Z",
     "shell.execute_reply": "2024-02-22T13:45:04.839703Z"
    },
    "papermill": {
     "duration": 0.028833,
     "end_time": "2024-02-22T13:45:04.843382",
     "exception": false,
     "start_time": "2024-02-22T13:45:04.814549",
     "status": "completed"
    },
    "tags": []
   },
   "outputs": [
    {
     "data": {
      "text/html": [
       "<div>\n",
       "<style scoped>\n",
       "    .dataframe tbody tr th:only-of-type {\n",
       "        vertical-align: middle;\n",
       "    }\n",
       "\n",
       "    .dataframe tbody tr th {\n",
       "        vertical-align: top;\n",
       "    }\n",
       "\n",
       "    .dataframe thead th {\n",
       "        text-align: right;\n",
       "    }\n",
       "</style>\n",
       "<table border=\"1\" class=\"dataframe\">\n",
       "  <thead>\n",
       "    <tr style=\"text-align: right;\">\n",
       "      <th></th>\n",
       "      <th>Id</th>\n",
       "      <th>ProductId</th>\n",
       "      <th>UserId</th>\n",
       "      <th>ProfileName</th>\n",
       "      <th>HelpfulnessNumerator</th>\n",
       "      <th>HelpfulnessDenominator</th>\n",
       "      <th>Score</th>\n",
       "      <th>Time</th>\n",
       "      <th>Summary</th>\n",
       "      <th>Text</th>\n",
       "    </tr>\n",
       "  </thead>\n",
       "  <tbody>\n",
       "    <tr>\n",
       "      <th>0</th>\n",
       "      <td>1</td>\n",
       "      <td>B001E4KFG0</td>\n",
       "      <td>A3SGXH7AUHU8GW</td>\n",
       "      <td>delmartian</td>\n",
       "      <td>1</td>\n",
       "      <td>1</td>\n",
       "      <td>5</td>\n",
       "      <td>1303862400</td>\n",
       "      <td>Good Quality Dog Food</td>\n",
       "      <td>I have bought several of the Vitality canned d...</td>\n",
       "    </tr>\n",
       "    <tr>\n",
       "      <th>1</th>\n",
       "      <td>2</td>\n",
       "      <td>B00813GRG4</td>\n",
       "      <td>A1D87F6ZCVE5NK</td>\n",
       "      <td>dll pa</td>\n",
       "      <td>0</td>\n",
       "      <td>0</td>\n",
       "      <td>1</td>\n",
       "      <td>1346976000</td>\n",
       "      <td>Not as Advertised</td>\n",
       "      <td>Product arrived labeled as Jumbo Salted Peanut...</td>\n",
       "    </tr>\n",
       "    <tr>\n",
       "      <th>2</th>\n",
       "      <td>3</td>\n",
       "      <td>B000LQOCH0</td>\n",
       "      <td>ABXLMWJIXXAIN</td>\n",
       "      <td>Natalia Corres \"Natalia Corres\"</td>\n",
       "      <td>1</td>\n",
       "      <td>1</td>\n",
       "      <td>4</td>\n",
       "      <td>1219017600</td>\n",
       "      <td>\"Delight\" says it all</td>\n",
       "      <td>This is a confection that has been around a fe...</td>\n",
       "    </tr>\n",
       "    <tr>\n",
       "      <th>3</th>\n",
       "      <td>4</td>\n",
       "      <td>B000UA0QIQ</td>\n",
       "      <td>A395BORC6FGVXV</td>\n",
       "      <td>Karl</td>\n",
       "      <td>3</td>\n",
       "      <td>3</td>\n",
       "      <td>2</td>\n",
       "      <td>1307923200</td>\n",
       "      <td>Cough Medicine</td>\n",
       "      <td>If you are looking for the secret ingredient i...</td>\n",
       "    </tr>\n",
       "    <tr>\n",
       "      <th>4</th>\n",
       "      <td>5</td>\n",
       "      <td>B006K2ZZ7K</td>\n",
       "      <td>A1UQRSCLF8GW1T</td>\n",
       "      <td>Michael D. Bigham \"M. Wassir\"</td>\n",
       "      <td>0</td>\n",
       "      <td>0</td>\n",
       "      <td>5</td>\n",
       "      <td>1350777600</td>\n",
       "      <td>Great taffy</td>\n",
       "      <td>Great taffy at a great price.  There was a wid...</td>\n",
       "    </tr>\n",
       "    <tr>\n",
       "      <th>5</th>\n",
       "      <td>6</td>\n",
       "      <td>B006K2ZZ7K</td>\n",
       "      <td>ADT0SRK1MGOEU</td>\n",
       "      <td>Twoapennything</td>\n",
       "      <td>0</td>\n",
       "      <td>0</td>\n",
       "      <td>4</td>\n",
       "      <td>1342051200</td>\n",
       "      <td>Nice Taffy</td>\n",
       "      <td>I got a wild hair for taffy and ordered this f...</td>\n",
       "    </tr>\n",
       "    <tr>\n",
       "      <th>6</th>\n",
       "      <td>7</td>\n",
       "      <td>B006K2ZZ7K</td>\n",
       "      <td>A1SP2KVKFXXRU1</td>\n",
       "      <td>David C. Sullivan</td>\n",
       "      <td>0</td>\n",
       "      <td>0</td>\n",
       "      <td>5</td>\n",
       "      <td>1340150400</td>\n",
       "      <td>Great!  Just as good as the expensive brands!</td>\n",
       "      <td>This saltwater taffy had great flavors and was...</td>\n",
       "    </tr>\n",
       "    <tr>\n",
       "      <th>7</th>\n",
       "      <td>8</td>\n",
       "      <td>B006K2ZZ7K</td>\n",
       "      <td>A3JRGQVEQN31IQ</td>\n",
       "      <td>Pamela G. Williams</td>\n",
       "      <td>0</td>\n",
       "      <td>0</td>\n",
       "      <td>5</td>\n",
       "      <td>1336003200</td>\n",
       "      <td>Wonderful, tasty taffy</td>\n",
       "      <td>This taffy is so good.  It is very soft and ch...</td>\n",
       "    </tr>\n",
       "    <tr>\n",
       "      <th>8</th>\n",
       "      <td>9</td>\n",
       "      <td>B000E7L2R4</td>\n",
       "      <td>A1MZYO9TZK0BBI</td>\n",
       "      <td>R. James</td>\n",
       "      <td>1</td>\n",
       "      <td>1</td>\n",
       "      <td>5</td>\n",
       "      <td>1322006400</td>\n",
       "      <td>Yay Barley</td>\n",
       "      <td>Right now I'm mostly just sprouting this so my...</td>\n",
       "    </tr>\n",
       "    <tr>\n",
       "      <th>9</th>\n",
       "      <td>10</td>\n",
       "      <td>B00171APVA</td>\n",
       "      <td>A21BT40VZCCYT4</td>\n",
       "      <td>Carol A. Reed</td>\n",
       "      <td>0</td>\n",
       "      <td>0</td>\n",
       "      <td>5</td>\n",
       "      <td>1351209600</td>\n",
       "      <td>Healthy Dog Food</td>\n",
       "      <td>This is a very healthy dog food. Good for thei...</td>\n",
       "    </tr>\n",
       "  </tbody>\n",
       "</table>\n",
       "</div>"
      ],
      "text/plain": [
       "   Id   ProductId          UserId                      ProfileName  \\\n",
       "0   1  B001E4KFG0  A3SGXH7AUHU8GW                       delmartian   \n",
       "1   2  B00813GRG4  A1D87F6ZCVE5NK                           dll pa   \n",
       "2   3  B000LQOCH0   ABXLMWJIXXAIN  Natalia Corres \"Natalia Corres\"   \n",
       "3   4  B000UA0QIQ  A395BORC6FGVXV                             Karl   \n",
       "4   5  B006K2ZZ7K  A1UQRSCLF8GW1T    Michael D. Bigham \"M. Wassir\"   \n",
       "5   6  B006K2ZZ7K   ADT0SRK1MGOEU                   Twoapennything   \n",
       "6   7  B006K2ZZ7K  A1SP2KVKFXXRU1                David C. Sullivan   \n",
       "7   8  B006K2ZZ7K  A3JRGQVEQN31IQ               Pamela G. Williams   \n",
       "8   9  B000E7L2R4  A1MZYO9TZK0BBI                         R. James   \n",
       "9  10  B00171APVA  A21BT40VZCCYT4                    Carol A. Reed   \n",
       "\n",
       "   HelpfulnessNumerator  HelpfulnessDenominator  Score        Time  \\\n",
       "0                     1                       1      5  1303862400   \n",
       "1                     0                       0      1  1346976000   \n",
       "2                     1                       1      4  1219017600   \n",
       "3                     3                       3      2  1307923200   \n",
       "4                     0                       0      5  1350777600   \n",
       "5                     0                       0      4  1342051200   \n",
       "6                     0                       0      5  1340150400   \n",
       "7                     0                       0      5  1336003200   \n",
       "8                     1                       1      5  1322006400   \n",
       "9                     0                       0      5  1351209600   \n",
       "\n",
       "                                         Summary  \\\n",
       "0                          Good Quality Dog Food   \n",
       "1                              Not as Advertised   \n",
       "2                          \"Delight\" says it all   \n",
       "3                                 Cough Medicine   \n",
       "4                                    Great taffy   \n",
       "5                                     Nice Taffy   \n",
       "6  Great!  Just as good as the expensive brands!   \n",
       "7                         Wonderful, tasty taffy   \n",
       "8                                     Yay Barley   \n",
       "9                               Healthy Dog Food   \n",
       "\n",
       "                                                Text  \n",
       "0  I have bought several of the Vitality canned d...  \n",
       "1  Product arrived labeled as Jumbo Salted Peanut...  \n",
       "2  This is a confection that has been around a fe...  \n",
       "3  If you are looking for the secret ingredient i...  \n",
       "4  Great taffy at a great price.  There was a wid...  \n",
       "5  I got a wild hair for taffy and ordered this f...  \n",
       "6  This saltwater taffy had great flavors and was...  \n",
       "7  This taffy is so good.  It is very soft and ch...  \n",
       "8  Right now I'm mostly just sprouting this so my...  \n",
       "9  This is a very healthy dog food. Good for thei...  "
      ]
     },
     "execution_count": 5,
     "metadata": {},
     "output_type": "execute_result"
    }
   ],
   "source": [
    "df.head(10)"
   ]
  },
  {
   "cell_type": "code",
   "execution_count": 6,
   "id": "c2c20d5a",
   "metadata": {
    "execution": {
     "iopub.execute_input": "2024-02-22T13:45:04.857639Z",
     "iopub.status.busy": "2024-02-22T13:45:04.857288Z",
     "iopub.status.idle": "2024-02-22T13:45:04.865320Z",
     "shell.execute_reply": "2024-02-22T13:45:04.864253Z"
    },
    "papermill": {
     "duration": 0.017124,
     "end_time": "2024-02-22T13:45:04.867021",
     "exception": false,
     "start_time": "2024-02-22T13:45:04.849897",
     "status": "completed"
    },
    "tags": []
   },
   "outputs": [
    {
     "data": {
      "text/plain": [
       "'I have bought several of the Vitality canned dog food products and have found them all to be of good quality. The product looks more like a stew than a processed meat and it smells better. My Labrador is finicky and she appreciates this product better than  most.'"
      ]
     },
     "execution_count": 6,
     "metadata": {},
     "output_type": "execute_result"
    }
   ],
   "source": [
    "#The first review\n",
    "df['Text'].values[0]"
   ]
  },
  {
   "cell_type": "markdown",
   "id": "e6d20be4",
   "metadata": {
    "papermill": {
     "duration": 0.005897,
     "end_time": "2024-02-22T13:45:04.879126",
     "exception": false,
     "start_time": "2024-02-22T13:45:04.873229",
     "status": "completed"
    },
    "tags": []
   },
   "source": [
    "# EDA"
   ]
  },
  {
   "cell_type": "code",
   "execution_count": 7,
   "id": "149e1e6b",
   "metadata": {
    "execution": {
     "iopub.execute_input": "2024-02-22T13:45:04.893477Z",
     "iopub.status.busy": "2024-02-22T13:45:04.893102Z",
     "iopub.status.idle": "2024-02-22T13:45:04.906529Z",
     "shell.execute_reply": "2024-02-22T13:45:04.905846Z"
    },
    "papermill": {
     "duration": 0.023276,
     "end_time": "2024-02-22T13:45:04.908394",
     "exception": false,
     "start_time": "2024-02-22T13:45:04.885118",
     "status": "completed"
    },
    "tags": []
   },
   "outputs": [
    {
     "data": {
      "text/plain": [
       "Score\n",
       "5    339\n",
       "4     70\n",
       "3     37\n",
       "1     36\n",
       "2     18\n",
       "Name: count, dtype: int64"
      ]
     },
     "execution_count": 7,
     "metadata": {},
     "output_type": "execute_result"
    }
   ],
   "source": [
    "#Scores from 1 to 5\n",
    "df['Score'].value_counts()"
   ]
  },
  {
   "cell_type": "code",
   "execution_count": 8,
   "id": "3c3d8dc5",
   "metadata": {
    "execution": {
     "iopub.execute_input": "2024-02-22T13:45:04.922608Z",
     "iopub.status.busy": "2024-02-22T13:45:04.922277Z",
     "iopub.status.idle": "2024-02-22T13:45:05.150943Z",
     "shell.execute_reply": "2024-02-22T13:45:05.150339Z"
    },
    "papermill": {
     "duration": 0.237777,
     "end_time": "2024-02-22T13:45:05.152740",
     "exception": false,
     "start_time": "2024-02-22T13:45:04.914963",
     "status": "completed"
    },
    "tags": []
   },
   "outputs": [
    {
     "data": {
      "image/png": "[encoded data removed]",
      "text/plain": [
       "<Figure size 1000x600 with 1 Axes>"
      ]
     },
     "metadata": {},
     "output_type": "display_data"
    }
   ],
   "source": [
    "a = df['Score'].value_counts().sort_index().plot(kind='bar', title = 'Count Of Reviews', figsize=(10,6), color='purple')\n",
    "a.set_xlabel('Review Scores')\n",
    "a.set_ylabel('Number Of People')\n",
    "plt.show()\n",
    "#Biased towards positive reviews by customers"
   ]
  },
  {
   "cell_type": "markdown",
   "id": "b321d2d4",
   "metadata": {
    "papermill": {
     "duration": 0.006591,
     "end_time": "2024-02-22T13:45:05.166416",
     "exception": false,
     "start_time": "2024-02-22T13:45:05.159825",
     "status": "completed"
    },
    "tags": []
   },
   "source": [
    "# Basics of NLTk"
   ]
  },
  {
   "cell_type": "code",
   "execution_count": 9,
   "id": "e9aa34e7",
   "metadata": {
    "execution": {
     "iopub.execute_input": "2024-02-22T13:45:05.181862Z",
     "iopub.status.busy": "2024-02-22T13:45:05.181300Z",
     "iopub.status.idle": "2024-02-22T13:45:05.186673Z",
     "shell.execute_reply": "2024-02-22T13:45:05.185464Z"
    },
    "papermill": {
     "duration": 0.015621,
     "end_time": "2024-02-22T13:45:05.188741",
     "exception": false,
     "start_time": "2024-02-22T13:45:05.173120",
     "status": "completed"
    },
    "tags": []
   },
   "outputs": [
    {
     "name": "stdout",
     "output_type": "stream",
     "text": [
      "My husband is a Twizzlers addict.  We've bought these many times from Amazon because we're government employees living overseas and can't get them in the country we are assigned to.  They've always been fresh and tasty, packed well and arrive in a timely manner.\n"
     ]
    }
   ],
   "source": [
    "#Showing off the 20th food review\n",
    "example = df['Text'][20]\n",
    "print(example)"
   ]
  },
  {
   "cell_type": "code",
   "execution_count": 10,
   "id": "e1068a1b",
   "metadata": {
    "execution": {
     "iopub.execute_input": "2024-02-22T13:45:05.203631Z",
     "iopub.status.busy": "2024-02-22T13:45:05.203288Z",
     "iopub.status.idle": "2024-02-22T13:45:05.222093Z",
     "shell.execute_reply": "2024-02-22T13:45:05.220866Z"
    },
    "papermill": {
     "duration": 0.029091,
     "end_time": "2024-02-22T13:45:05.224706",
     "exception": false,
     "start_time": "2024-02-22T13:45:05.195615",
     "status": "completed"
    },
    "tags": []
   },
   "outputs": [
    {
     "data": {
      "text/plain": [
       "['My', 'husband', 'is', 'a', 'Twizzlers', 'addict']"
      ]
     },
     "execution_count": 10,
     "metadata": {},
     "output_type": "execute_result"
    }
   ],
   "source": [
    "#Tokenizing - splitting the sentence into words\n",
    "token = nltk.word_tokenize(example)\n",
    "token[:6]"
   ]
  },
  {
   "cell_type": "code",
   "execution_count": 11,
   "id": "ac9c5c3f",
   "metadata": {
    "execution": {
     "iopub.execute_input": "2024-02-22T13:45:05.240706Z",
     "iopub.status.busy": "2024-02-22T13:45:05.239510Z",
     "iopub.status.idle": "2024-02-22T13:45:05.328983Z",
     "shell.execute_reply": "2024-02-22T13:45:05.327814Z"
    },
    "papermill": {
     "duration": 0.099145,
     "end_time": "2024-02-22T13:45:05.330898",
     "exception": false,
     "start_time": "2024-02-22T13:45:05.231753",
     "status": "completed"
    },
    "tags": []
   },
   "outputs": [
    {
     "data": {
      "text/plain": [
       "[('My', 'PRP$'),\n",
       " ('husband', 'NN'),\n",
       " ('is', 'VBZ'),\n",
       " ('a', 'DT'),\n",
       " ('Twizzlers', 'NNP'),\n",
       " ('addict', 'NN')]"
      ]
     },
     "execution_count": 11,
     "metadata": {},
     "output_type": "execute_result"
    }
   ],
   "source": [
    "#Finding the parts  of speech (POS)\n",
    "pos = nltk.pos_tag(token)\n",
    "pos[:6]"
   ]
  },
  {
   "cell_type": "code",
   "execution_count": 12,
   "id": "69037e2d",
   "metadata": {
    "execution": {
     "iopub.execute_input": "2024-02-22T13:45:05.348019Z",
     "iopub.status.busy": "2024-02-22T13:45:05.346876Z",
     "iopub.status.idle": "2024-02-22T13:45:05.453550Z",
     "shell.execute_reply": "2024-02-22T13:45:05.451982Z"
    },
    "papermill": {
     "duration": 0.117878,
     "end_time": "2024-02-22T13:45:05.455972",
     "exception": false,
     "start_time": "2024-02-22T13:45:05.338094",
     "status": "completed"
    },
    "tags": []
   },
   "outputs": [
    {
     "name": "stdout",
     "output_type": "stream",
     "text": [
      "(S\n",
      "  My/PRP$\n",
      "  husband/NN\n",
      "  is/VBZ\n",
      "  a/DT\n",
      "  Twizzlers/NNP\n",
      "  addict/NN\n",
      "  ./.\n",
      "  We/PRP\n",
      "  've/VBP\n",
      "  bought/VBN\n",
      "  these/DT\n",
      "  many/JJ\n",
      "  times/NNS\n",
      "  from/IN\n",
      "  (GPE Amazon/NNP)\n",
      "  because/IN\n",
      "  we/PRP\n",
      "  're/VBP\n",
      "  government/NN\n",
      "  employees/NNS\n",
      "  living/VBG\n",
      "  overseas/RB\n",
      "  and/CC\n",
      "  ca/MD\n",
      "  n't/RB\n",
      "  get/VB\n",
      "  them/PRP\n",
      "  in/IN\n",
      "  the/DT\n",
      "  country/NN\n",
      "  we/PRP\n",
      "  are/VBP\n",
      "  assigned/VBN\n",
      "  to/TO\n",
      "  ./.\n",
      "  They/PRP\n",
      "  've/VBP\n",
      "  always/RB\n",
      "  been/VBN\n",
      "  fresh/JJ\n",
      "  and/CC\n",
      "  tasty/JJ\n",
      "  ,/,\n",
      "  packed/VBN\n",
      "  well/RB\n",
      "  and/CC\n",
      "  arrive/JJ\n",
      "  in/IN\n",
      "  a/DT\n",
      "  timely/JJ\n",
      "  manner/NN\n",
      "  ./.)\n"
     ]
    }
   ],
   "source": [
    "entities =nltk.chunk.ne_chunk(pos)\n",
    "entities.pprint()"
   ]
  },
  {
   "cell_type": "markdown",
   "id": "2c3584bc",
   "metadata": {
    "papermill": {
     "duration": 0.006743,
     "end_time": "2024-02-22T13:45:05.470139",
     "exception": false,
     "start_time": "2024-02-22T13:45:05.463396",
     "status": "completed"
    },
    "tags": []
   },
   "source": [
    "# Using VADER Sentiment Scoring\n",
    "* Uses a \"bag of words\" approach\n",
    "* Stop words are removed (Like the/and/so)\n",
    "* Has a value of positive, negative or neutral for each of the words \n",
    "* Each word is scored and combined to a total score "
   ]
  },
  {
   "cell_type": "code",
   "execution_count": 13,
   "id": "005088c7",
   "metadata": {
    "execution": {
     "iopub.execute_input": "2024-02-22T13:45:05.485680Z",
     "iopub.status.busy": "2024-02-22T13:45:05.485314Z",
     "iopub.status.idle": "2024-02-22T13:45:05.519152Z",
     "shell.execute_reply": "2024-02-22T13:45:05.518175Z"
    },
    "papermill": {
     "duration": 0.044362,
     "end_time": "2024-02-22T13:45:05.521529",
     "exception": false,
     "start_time": "2024-02-22T13:45:05.477167",
     "status": "completed"
    },
    "tags": []
   },
   "outputs": [
    {
     "name": "stderr",
     "output_type": "stream",
     "text": [
      "/opt/conda/lib/python3.10/site-packages/nltk/twitter/__init__.py:20: UserWarning: The twython library has not been installed. Some functionality from the twitter package will not be available.\n",
      "  warnings.warn(\"The twython library has not been installed. \"\n"
     ]
    }
   ],
   "source": [
    "from nltk.sentiment import SentimentIntensityAnalyzer\n",
    "from tqdm.notebook import tqdm #A progress bar tracker\n",
    "\n",
    "sa = SentimentIntensityAnalyzer()"
   ]
  },
  {
   "cell_type": "markdown",
   "id": "3beb4f88",
   "metadata": {
    "papermill": {
     "duration": 0.006702,
     "end_time": "2024-02-22T13:45:05.535332",
     "exception": false,
     "start_time": "2024-02-22T13:45:05.528630",
     "status": "completed"
    },
    "tags": []
   },
   "source": [
    "**Polarity Scores Samples**"
   ]
  },
  {
   "cell_type": "code",
   "execution_count": 14,
   "id": "85db87ad",
   "metadata": {
    "execution": {
     "iopub.execute_input": "2024-02-22T13:45:05.551430Z",
     "iopub.status.busy": "2024-02-22T13:45:05.550360Z",
     "iopub.status.idle": "2024-02-22T13:45:05.556647Z",
     "shell.execute_reply": "2024-02-22T13:45:05.555781Z"
    },
    "papermill": {
     "duration": 0.016356,
     "end_time": "2024-02-22T13:45:05.558563",
     "exception": false,
     "start_time": "2024-02-22T13:45:05.542207",
     "status": "completed"
    },
    "tags": []
   },
   "outputs": [
    {
     "data": {
      "text/plain": [
       "{'neg': 0.666, 'neu': 0.334, 'pos': 0.0, 'compound': -0.6114}"
      ]
     },
     "execution_count": 14,
     "metadata": {},
     "output_type": "execute_result"
    }
   ],
   "source": [
    "#Sample 1\n",
    "sa.polarity_scores('I hate the stew!')\n",
    "#mostly negatove as neg: -0.666"
   ]
  },
  {
   "cell_type": "code",
   "execution_count": 15,
   "id": "4f08a00b",
   "metadata": {
    "execution": {
     "iopub.execute_input": "2024-02-22T13:45:05.574702Z",
     "iopub.status.busy": "2024-02-22T13:45:05.574371Z",
     "iopub.status.idle": "2024-02-22T13:45:05.580425Z",
     "shell.execute_reply": "2024-02-22T13:45:05.579270Z"
    },
    "papermill": {
     "duration": 0.016114,
     "end_time": "2024-02-22T13:45:05.582188",
     "exception": false,
     "start_time": "2024-02-22T13:45:05.566074",
     "status": "completed"
    },
    "tags": []
   },
   "outputs": [
    {
     "data": {
      "text/plain": [
       "{'neg': 0.0, 'neu': 0.589, 'pos': 0.411, 'compound': 0.5411}"
      ]
     },
     "execution_count": 15,
     "metadata": {},
     "output_type": "execute_result"
    }
   ],
   "source": [
    "#Sample 2\n",
    "sa.polarity_scores('This is the nicest snack ever!')"
   ]
  },
  {
   "cell_type": "markdown",
   "id": "1e752509",
   "metadata": {
    "papermill": {
     "duration": 0.006989,
     "end_time": "2024-02-22T13:45:05.596537",
     "exception": false,
     "start_time": "2024-02-22T13:45:05.589548",
     "status": "completed"
    },
    "tags": []
   },
   "source": [
    "**Example:** My husband is a Twizzlers addict.  We've bought these many times from Amazon because we're government employees living overseas and can't get them in the country we are assigned to.  They've always been fresh and tasty, packed well and arrive in a timely manner."
   ]
  },
  {
   "cell_type": "code",
   "execution_count": 16,
   "id": "79b1f2a6",
   "metadata": {
    "execution": {
     "iopub.execute_input": "2024-02-22T13:45:05.612591Z",
     "iopub.status.busy": "2024-02-22T13:45:05.612280Z",
     "iopub.status.idle": "2024-02-22T13:45:05.618818Z",
     "shell.execute_reply": "2024-02-22T13:45:05.617818Z"
    },
    "papermill": {
     "duration": 0.017177,
     "end_time": "2024-02-22T13:45:05.620997",
     "exception": false,
     "start_time": "2024-02-22T13:45:05.603820",
     "status": "completed"
    },
    "tags": []
   },
   "outputs": [
    {
     "data": {
      "text/plain": [
       "{'neg': 0.0, 'neu': 0.865, 'pos': 0.135, 'compound': 0.6249}"
      ]
     },
     "execution_count": 16,
     "metadata": {},
     "output_type": "execute_result"
    }
   ],
   "source": [
    "#Example polarityis more on the positive side\n",
    "sa.polarity_scores(example)\n"
   ]
  },
  {
   "cell_type": "code",
   "execution_count": 17,
   "id": "3eb2d190",
   "metadata": {
    "execution": {
     "iopub.execute_input": "2024-02-22T13:45:05.637674Z",
     "iopub.status.busy": "2024-02-22T13:45:05.637318Z",
     "iopub.status.idle": "2024-02-22T13:45:06.084748Z",
     "shell.execute_reply": "2024-02-22T13:45:06.083935Z"
    },
    "papermill": {
     "duration": 0.457557,
     "end_time": "2024-02-22T13:45:06.086337",
     "exception": false,
     "start_time": "2024-02-22T13:45:05.628780",
     "status": "completed"
    },
    "tags": []
   },
   "outputs": [
    {
     "data": {
      "application/vnd.jupyter.widget-view+json": {
       "model_id": "a2cd4045a50148e1a98466c0985c18db",
       "version_major": 2,
       "version_minor": 0
      },
      "text/plain": [
       "  0%|          | 0/500 [00:00<?, ?it/s]"
      ]
     },
     "metadata": {},
     "output_type": "display_data"
    }
   ],
   "source": [
    "#Running the polarity score on the whole dataset\n",
    "result = {} #a dictionary to store the polarity scores\n",
    "for i, row in tqdm(df.iterrows(), total=len(df)):\n",
    "    text = row['Text']\n",
    "    myid = row['Id']\n",
    "    result[myid]= sa.polarity_scores(text)\n",
    "    "
   ]
  },
  {
   "cell_type": "code",
   "execution_count": 18,
   "id": "ef514fcb",
   "metadata": {
    "execution": {
     "iopub.execute_input": "2024-02-22T13:45:06.103274Z",
     "iopub.status.busy": "2024-02-22T13:45:06.102915Z",
     "iopub.status.idle": "2024-02-22T13:45:06.124571Z",
     "shell.execute_reply": "2024-02-22T13:45:06.123709Z"
    },
    "papermill": {
     "duration": 0.032598,
     "end_time": "2024-02-22T13:45:06.126571",
     "exception": false,
     "start_time": "2024-02-22T13:45:06.093973",
     "status": "completed"
    },
    "tags": []
   },
   "outputs": [],
   "source": [
    "#Result of the 500 reviews whether positive, negative or neutral\n",
    "vaders = pd.DataFrame(result).T\n",
    "vaders = vaders.reset_index().rename(columns={'index': 'Id'})\n",
    "vaders = vaders.merge(df, how = 'left') #merging it to the original dataframe"
   ]
  },
  {
   "cell_type": "markdown",
   "id": "2389dfe3",
   "metadata": {
    "papermill": {
     "duration": 0.006864,
     "end_time": "2024-02-22T13:45:06.141576",
     "exception": false,
     "start_time": "2024-02-22T13:45:06.134712",
     "status": "completed"
    },
    "tags": []
   },
   "source": [
    "**Merging the (positive, neutral, and negative) values to the original dataframe**"
   ]
  },
  {
   "cell_type": "code",
   "execution_count": 19,
   "id": "d08e9783",
   "metadata": {
    "execution": {
     "iopub.execute_input": "2024-02-22T13:45:06.157456Z",
     "iopub.status.busy": "2024-02-22T13:45:06.157134Z",
     "iopub.status.idle": "2024-02-22T13:45:06.171767Z",
     "shell.execute_reply": "2024-02-22T13:45:06.171096Z"
    },
    "papermill": {
     "duration": 0.025141,
     "end_time": "2024-02-22T13:45:06.173992",
     "exception": false,
     "start_time": "2024-02-22T13:45:06.148851",
     "status": "completed"
    },
    "tags": []
   },
   "outputs": [
    {
     "data": {
      "text/html": [
       "<div>\n",
       "<style scoped>\n",
       "    .dataframe tbody tr th:only-of-type {\n",
       "        vertical-align: middle;\n",
       "    }\n",
       "\n",
       "    .dataframe tbody tr th {\n",
       "        vertical-align: top;\n",
       "    }\n",
       "\n",
       "    .dataframe thead th {\n",
       "        text-align: right;\n",
       "    }\n",
       "</style>\n",
       "<table border=\"1\" class=\"dataframe\">\n",
       "  <thead>\n",
       "    <tr style=\"text-align: right;\">\n",
       "      <th></th>\n",
       "      <th>Id</th>\n",
       "      <th>neg</th>\n",
       "      <th>neu</th>\n",
       "      <th>pos</th>\n",
       "      <th>compound</th>\n",
       "      <th>ProductId</th>\n",
       "      <th>UserId</th>\n",
       "      <th>ProfileName</th>\n",
       "      <th>HelpfulnessNumerator</th>\n",
       "      <th>HelpfulnessDenominator</th>\n",
       "      <th>Score</th>\n",
       "      <th>Time</th>\n",
       "      <th>Summary</th>\n",
       "      <th>Text</th>\n",
       "    </tr>\n",
       "  </thead>\n",
       "  <tbody>\n",
       "    <tr>\n",
       "      <th>0</th>\n",
       "      <td>1</td>\n",
       "      <td>0.000</td>\n",
       "      <td>0.695</td>\n",
       "      <td>0.305</td>\n",
       "      <td>0.9441</td>\n",
       "      <td>B001E4KFG0</td>\n",
       "      <td>A3SGXH7AUHU8GW</td>\n",
       "      <td>delmartian</td>\n",
       "      <td>1</td>\n",
       "      <td>1</td>\n",
       "      <td>5</td>\n",
       "      <td>1303862400</td>\n",
       "      <td>Good Quality Dog Food</td>\n",
       "      <td>I have bought several of the Vitality canned d...</td>\n",
       "    </tr>\n",
       "    <tr>\n",
       "      <th>1</th>\n",
       "      <td>2</td>\n",
       "      <td>0.079</td>\n",
       "      <td>0.853</td>\n",
       "      <td>0.068</td>\n",
       "      <td>-0.1027</td>\n",
       "      <td>B00813GRG4</td>\n",
       "      <td>A1D87F6ZCVE5NK</td>\n",
       "      <td>dll pa</td>\n",
       "      <td>0</td>\n",
       "      <td>0</td>\n",
       "      <td>1</td>\n",
       "      <td>1346976000</td>\n",
       "      <td>Not as Advertised</td>\n",
       "      <td>Product arrived labeled as Jumbo Salted Peanut...</td>\n",
       "    </tr>\n",
       "    <tr>\n",
       "      <th>2</th>\n",
       "      <td>3</td>\n",
       "      <td>0.091</td>\n",
       "      <td>0.754</td>\n",
       "      <td>0.155</td>\n",
       "      <td>0.8265</td>\n",
       "      <td>B000LQOCH0</td>\n",
       "      <td>ABXLMWJIXXAIN</td>\n",
       "      <td>Natalia Corres \"Natalia Corres\"</td>\n",
       "      <td>1</td>\n",
       "      <td>1</td>\n",
       "      <td>4</td>\n",
       "      <td>1219017600</td>\n",
       "      <td>\"Delight\" says it all</td>\n",
       "      <td>This is a confection that has been around a fe...</td>\n",
       "    </tr>\n",
       "    <tr>\n",
       "      <th>3</th>\n",
       "      <td>4</td>\n",
       "      <td>0.000</td>\n",
       "      <td>1.000</td>\n",
       "      <td>0.000</td>\n",
       "      <td>0.0000</td>\n",
       "      <td>B000UA0QIQ</td>\n",
       "      <td>A395BORC6FGVXV</td>\n",
       "      <td>Karl</td>\n",
       "      <td>3</td>\n",
       "      <td>3</td>\n",
       "      <td>2</td>\n",
       "      <td>1307923200</td>\n",
       "      <td>Cough Medicine</td>\n",
       "      <td>If you are looking for the secret ingredient i...</td>\n",
       "    </tr>\n",
       "    <tr>\n",
       "      <th>4</th>\n",
       "      <td>5</td>\n",
       "      <td>0.000</td>\n",
       "      <td>0.552</td>\n",
       "      <td>0.448</td>\n",
       "      <td>0.9468</td>\n",
       "      <td>B006K2ZZ7K</td>\n",
       "      <td>A1UQRSCLF8GW1T</td>\n",
       "      <td>Michael D. Bigham \"M. Wassir\"</td>\n",
       "      <td>0</td>\n",
       "      <td>0</td>\n",
       "      <td>5</td>\n",
       "      <td>1350777600</td>\n",
       "      <td>Great taffy</td>\n",
       "      <td>Great taffy at a great price.  There was a wid...</td>\n",
       "    </tr>\n",
       "  </tbody>\n",
       "</table>\n",
       "</div>"
      ],
      "text/plain": [
       "   Id    neg    neu    pos  compound   ProductId          UserId  \\\n",
       "0   1  0.000  0.695  0.305    0.9441  B001E4KFG0  A3SGXH7AUHU8GW   \n",
       "1   2  0.079  0.853  0.068   -0.1027  B00813GRG4  A1D87F6ZCVE5NK   \n",
       "2   3  0.091  0.754  0.155    0.8265  B000LQOCH0   ABXLMWJIXXAIN   \n",
       "3   4  0.000  1.000  0.000    0.0000  B000UA0QIQ  A395BORC6FGVXV   \n",
       "4   5  0.000  0.552  0.448    0.9468  B006K2ZZ7K  A1UQRSCLF8GW1T   \n",
       "\n",
       "                       ProfileName  HelpfulnessNumerator  \\\n",
       "0                       delmartian                     1   \n",
       "1                           dll pa                     0   \n",
       "2  Natalia Corres \"Natalia Corres\"                     1   \n",
       "3                             Karl                     3   \n",
       "4    Michael D. Bigham \"M. Wassir\"                     0   \n",
       "\n",
       "   HelpfulnessDenominator  Score        Time                Summary  \\\n",
       "0                       1      5  1303862400  Good Quality Dog Food   \n",
       "1                       0      1  1346976000      Not as Advertised   \n",
       "2                       1      4  1219017600  \"Delight\" says it all   \n",
       "3                       3      2  1307923200         Cough Medicine   \n",
       "4                       0      5  1350777600            Great taffy   \n",
       "\n",
       "                                                Text  \n",
       "0  I have bought several of the Vitality canned d...  \n",
       "1  Product arrived labeled as Jumbo Salted Peanut...  \n",
       "2  This is a confection that has been around a fe...  \n",
       "3  If you are looking for the secret ingredient i...  \n",
       "4  Great taffy at a great price.  There was a wid...  "
      ]
     },
     "execution_count": 19,
     "metadata": {},
     "output_type": "execute_result"
    }
   ],
   "source": [
    "vaders.head(5)"
   ]
  },
  {
   "cell_type": "markdown",
   "id": "22d8e65b",
   "metadata": {
    "papermill": {
     "duration": 0.007728,
     "end_time": "2024-02-22T13:45:06.189681",
     "exception": false,
     "start_time": "2024-02-22T13:45:06.181953",
     "status": "completed"
    },
    "tags": []
   },
   "source": [
    "# **Vader Plotting Results**"
   ]
  },
  {
   "cell_type": "code",
   "execution_count": 20,
   "id": "7b704127",
   "metadata": {
    "execution": {
     "iopub.execute_input": "2024-02-22T13:45:06.206636Z",
     "iopub.status.busy": "2024-02-22T13:45:06.206266Z",
     "iopub.status.idle": "2024-02-22T13:45:06.454245Z",
     "shell.execute_reply": "2024-02-22T13:45:06.453201Z"
    },
    "papermill": {
     "duration": 0.258756,
     "end_time": "2024-02-22T13:45:06.456115",
     "exception": false,
     "start_time": "2024-02-22T13:45:06.197359",
     "status": "completed"
    },
    "tags": []
   },
   "outputs": [
    {
     "data": {
      "image/png": "[encoded data removed]",
      "text/plain": [
       "<Figure size 640x480 with 1 Axes>"
      ]
     },
     "metadata": {},
     "output_type": "display_data"
    }
   ],
   "source": [
    "ax = sns.barplot(data=vaders, x = 'Score', y = 'compound')\n",
    "ax.set_title('Compound Score Of Amazon Fine foods')\n",
    "plt.show()"
   ]
  },
  {
   "cell_type": "markdown",
   "id": "05ac4818",
   "metadata": {
    "papermill": {
     "duration": 0.007452,
     "end_time": "2024-02-22T13:45:06.471605",
     "exception": false,
     "start_time": "2024-02-22T13:45:06.464153",
     "status": "completed"
    },
    "tags": []
   },
   "source": [
    "# Positive Score Vs Neutral Score Vs Negative Score"
   ]
  },
  {
   "cell_type": "code",
   "execution_count": 21,
   "id": "f7787ce9",
   "metadata": {
    "execution": {
     "iopub.execute_input": "2024-02-22T13:45:06.488781Z",
     "iopub.status.busy": "2024-02-22T13:45:06.488436Z",
     "iopub.status.idle": "2024-02-22T13:45:07.229137Z",
     "shell.execute_reply": "2024-02-22T13:45:07.227991Z"
    },
    "papermill": {
     "duration": 0.752188,
     "end_time": "2024-02-22T13:45:07.231370",
     "exception": false,
     "start_time": "2024-02-22T13:45:06.479182",
     "status": "completed"
    },
    "tags": []
   },
   "outputs": [
    {
     "data": {
      "image/png": "[encoded data removed]",
      "text/plain": [
       "<Figure size 1400x500 with 3 Axes>"
      ]
     },
     "metadata": {},
     "output_type": "display_data"
    }
   ],
   "source": [
    "#Breaking down into positive, negative, and neutral results\n",
    "fig, axs = plt.subplots(1, 3, figsize=(14,5)) #Creating a 1x3 grid for the results\n",
    "sns.barplot(data=vaders, x= 'Score', y= 'pos', ax=axs[0])\n",
    "sns.barplot(data=vaders, x= 'Score', y= 'neu', ax= axs[1])\n",
    "sns.barplot(data=vaders, x= 'Score', y= 'neg', ax=axs[2])\n",
    "axs[0].set_title('Positive Score')\n",
    "axs[1].set_title('Neutral Score')\n",
    "axs[2].set_title('Negative Score')\n",
    "plt.tight_layout()\n",
    "plt.show()\n"
   ]
  },
  {
   "cell_type": "markdown",
   "id": "ca62b712",
   "metadata": {
    "papermill": {
     "duration": 0.007914,
     "end_time": "2024-02-22T13:45:07.248171",
     "exception": false,
     "start_time": "2024-02-22T13:45:07.240257",
     "status": "completed"
    },
    "tags": []
   },
   "source": [
    "**Code by Samaa M. Wagih** /\n",
    "**Help by @Rob Mulla**"
   ]
  },
  {
   "cell_type": "code",
   "execution_count": null,
   "id": "df16abb3",
   "metadata": {
    "papermill": {
     "duration": 0.007782,
     "end_time": "2024-02-22T13:45:07.264155",
     "exception": false,
     "start_time": "2024-02-22T13:45:07.256373",
     "status": "completed"
    },
    "tags": []
   },
   "outputs": [],
   "source": []
  }
 ],
 "metadata": {
  "kaggle": {
   "accelerator": "none",
   "dataSources": [
    {
     "datasetId": 18,
     "sourceId": 2157,
     "sourceType": "datasetVersion"
    }
   ],
   "dockerImageVersionId": 30646,
   "isGpuEnabled": false,
   "isInternetEnabled": false,
   "language": "python",
   "sourceType": "notebook"
  },
  "kernelspec": {
   "display_name": "Python 3",
   "language": "python",
   "name": "python3"
  },
  "language_info": {
   "codemirror_mode": {
    "name": "ipython",
    "version": 3
   },
   "file_extension": ".py",
   "mimetype": "text/x-python",
   "name": "python",
   "nbconvert_exporter": "python",
   "pygments_lexer": "ipython3",
   "version": "3.10.13"
  },
  "papermill": {
   "default_parameters": {},
   "duration": 15.798924,
   "end_time": "2024-02-22T13:45:08.093278",
   "environment_variables": {},
   "exception": null,
   "input_path": "__notebook__.ipynb",
   "output_path": "__notebook__.ipynb",
   "parameters": {},
   "start_time": "2024-02-22T13:44:52.294354",
   "version": "2.5.0"
  },
  "widgets": {
   "application/vnd.jupyter.widget-state+json": {
    "state": {
     "115fc17ed34b4ff08c5563741774550a": {
      "model_module": "@jupyter-widgets/base",
      "model_module_version": "1.2.0",
      "model_name": "LayoutModel",
      "state": {
       "_model_module": "@jupyter-widgets/base",
       "_model_module_version": "1.2.0",
       "_model_name": "LayoutModel",
       "_view_count": null,
       "_view_module": "@jupyter-widgets/base",
       "_view_module_version": "1.2.0",
       "_view_name": "LayoutView",
       "align_content": null,
       "align_items": null,
       "align_self": null,
       "border": null,
       "bottom": null,
       "display": null,
       "flex": null,
       "flex_flow": null,
       "grid_area": null,
       "grid_auto_columns": null,
       "grid_auto_flow": null,
       "grid_auto_rows": null,
       "grid_column": null,
       "grid_gap": null,
       "grid_row": null,
       "grid_template_areas": null,
       "grid_template_columns": null,
       "grid_template_rows": null,
       "height": null,
       "justify_content": null,
       "justify_items": null,
       "left": null,
       "margin": null,
       "max_height": null,
       "max_width": null,
       "min_height": null,
       "min_width": null,
       "object_fit": null,
       "object_position": null,
       "order": null,
       "overflow": null,
       "overflow_x": null,
       "overflow_y": null,
       "padding": null,
       "right": null,
       "top": null,
       "visibility": null,
       "width": null
      }
     },
     "3b9283f8fb13460eadbe2e94ebb2f652": {
      "model_module": "@jupyter-widgets/base",
      "model_module_version": "1.2.0",
      "model_name": "LayoutModel",
      "state": {
       "_model_module": "@jupyter-widgets/base",
       "_model_module_version": "1.2.0",
       "_model_name": "LayoutModel",
       "_view_count": null,
       "_view_module": "@jupyter-widgets/base",
       "_view_module_version": "1.2.0",
       "_view_name": "LayoutView",
       "align_content": null,
       "align_items": null,
       "align_self": null,
       "border": null,
       "bottom": null,
       "display": null,
       "flex": null,
       "flex_flow": null,
       "grid_area": null,
       "grid_auto_columns": null,
       "grid_auto_flow": null,
       "grid_auto_rows": null,
       "grid_column": null,
       "grid_gap": null,
       "grid_row": null,
       "grid_template_areas": null,
       "grid_template_columns": null,
       "grid_template_rows": null,
       "height": null,
       "justify_content": null,
       "justify_items": null,
       "left": null,
       "margin": null,
       "max_height": null,
       "max_width": null,
       "min_height": null,
       "min_width": null,
       "object_fit": null,
       "object_position": null,
       "order": null,
       "overflow": null,
       "overflow_x": null,
       "overflow_y": null,
       "padding": null,
       "right": null,
       "top": null,
       "visibility": null,
       "width": null
      }
     },
     "3de2a46877cb45eb8a4d39d52f4ed565": {
      "model_module": "@jupyter-widgets/controls",
      "model_module_version": "1.5.0",
      "model_name": "DescriptionStyleModel",
      "state": {
       "_model_module": "@jupyter-widgets/controls",
       "_model_module_version": "1.5.0",
       "_model_name": "DescriptionStyleModel",
       "_view_count": null,
       "_view_module": "@jupyter-widgets/base",
       "_view_module_version": "1.2.0",
       "_view_name": "StyleView",
       "description_width": ""
      }
     },
     "3e79483ca53b4f7fa107bf4085b0fe79": {
      "model_module": "@jupyter-widgets/controls",
      "model_module_version": "1.5.0",
      "model_name": "HTMLModel",
      "state": {
       "_dom_classes": [],
       "_model_module": "@jupyter-widgets/controls",
       "_model_module_version": "1.5.0",
       "_model_name": "HTMLModel",
       "_view_count": null,
       "_view_module": "@jupyter-widgets/controls",
       "_view_module_version": "1.5.0",
       "_view_name": "HTMLView",
       "description": "",
       "description_tooltip": null,
       "layout": "IPY_MODEL_3b9283f8fb13460eadbe2e94ebb2f652",
       "placeholder": "​",
       "style": "IPY_MODEL_3de2a46877cb45eb8a4d39d52f4ed565",
       "value": "100%"
      }
     },
     "6aec69aad65a45f49ef88fe3260fd099": {
      "model_module": "@jupyter-widgets/controls",
      "model_module_version": "1.5.0",
      "model_name": "DescriptionStyleModel",
      "state": {
       "_model_module": "@jupyter-widgets/controls",
       "_model_module_version": "1.5.0",
       "_model_name": "DescriptionStyleModel",
       "_view_count": null,
       "_view_module": "@jupyter-widgets/base",
       "_view_module_version": "1.2.0",
       "_view_name": "StyleView",
       "description_width": ""
      }
     },
     "6d8aa5d5c7c1477da03f9e5122dab6bc": {
      "model_module": "@jupyter-widgets/controls",
      "model_module_version": "1.5.0",
      "model_name": "ProgressStyleModel",
      "state": {
       "_model_module": "@jupyter-widgets/controls",
       "_model_module_version": "1.5.0",
       "_model_name": "ProgressStyleModel",
       "_view_count": null,
       "_view_module": "@jupyter-widgets/base",
       "_view_module_version": "1.2.0",
       "_view_name": "StyleView",
       "bar_color": null,
       "description_width": ""
      }
     },
     "a2cd4045a50148e1a98466c0985c18db": {
      "model_module": "@jupyter-widgets/controls",
      "model_module_version": "1.5.0",
      "model_name": "HBoxModel",
      "state": {
       "_dom_classes": [],
       "_model_module": "@jupyter-widgets/controls",
       "_model_module_version": "1.5.0",
       "_model_name": "HBoxModel",
       "_view_count": null,
       "_view_module": "@jupyter-widgets/controls",
       "_view_module_version": "1.5.0",
       "_view_name": "HBoxView",
       "box_style": "",
       "children": [
        "IPY_MODEL_3e79483ca53b4f7fa107bf4085b0fe79",
        "IPY_MODEL_d2d96ac270d54269b6614cca53001676",
        "IPY_MODEL_ab322fc5cc7d470a9a49f769238cd31d"
       ],
       "layout": "IPY_MODEL_addac3b8b6ea49e19006ccf7813e0dd7"
      }
     },
     "ab322fc5cc7d470a9a49f769238cd31d": {
      "model_module": "@jupyter-widgets/controls",
      "model_module_version": "1.5.0",
      "model_name": "HTMLModel",
      "state": {
       "_dom_classes": [],
       "_model_module": "@jupyter-widgets/controls",
       "_model_module_version": "1.5.0",
       "_model_name": "HTMLModel",
       "_view_count": null,
       "_view_module": "@jupyter-widgets/controls",
       "_view_module_version": "1.5.0",
       "_view_name": "HTMLView",
       "description": "",
       "description_tooltip": null,
       "layout": "IPY_MODEL_115fc17ed34b4ff08c5563741774550a",
       "placeholder": "​",
       "style": "IPY_MODEL_6aec69aad65a45f49ef88fe3260fd099",
       "value": " 500/500 [00:00&lt;00:00, 1160.83it/s]"
      }
     },
     "addac3b8b6ea49e19006ccf7813e0dd7": {
      "model_module": "@jupyter-widgets/base",
      "model_module_version": "1.2.0",
      "model_name": "LayoutModel",
      "state": {
       "_model_module": "@jupyter-widgets/base",
       "_model_module_version": "1.2.0",
       "_model_name": "LayoutModel",
       "_view_count": null,
       "_view_module": "@jupyter-widgets/base",
       "_view_module_version": "1.2.0",
       "_view_name": "LayoutView",
       "align_content": null,
       "align_items": null,
       "align_self": null,
       "border": null,
       "bottom": null,
       "display": null,
       "flex": null,
       "flex_flow": null,
       "grid_area": null,
       "grid_auto_columns": null,
       "grid_auto_flow": null,
       "grid_auto_rows": null,
       "grid_column": null,
       "grid_gap": null,
       "grid_row": null,
       "grid_template_areas": null,
       "grid_template_columns": null,
       "grid_template_rows": null,
       "height": null,
       "justify_content": null,
       "justify_items": null,
       "left": null,
       "margin": null,
       "max_height": null,
       "max_width": null,
       "min_height": null,
       "min_width": null,
       "object_fit": null,
       "object_position": null,
       "order": null,
       "overflow": null,
       "overflow_x": null,
       "overflow_y": null,
       "padding": null,
       "right": null,
       "top": null,
       "visibility": null,
       "width": null
      }
     },
     "ae6ba83ef7534c4b98521acb9d62b8dd": {
      "model_module": "@jupyter-widgets/base",
      "model_module_version": "1.2.0",
      "model_name": "LayoutModel",
      "state": {
       "_model_module": "@jupyter-widgets/base",
       "_model_module_version": "1.2.0",
       "_model_name": "LayoutModel",
       "_view_count": null,
       "_view_module": "@jupyter-widgets/base",
       "_view_module_version": "1.2.0",
       "_view_name": "LayoutView",
       "align_content": null,
       "align_items": null,
       "align_self": null,
       "border": null,
       "bottom": null,
       "display": null,
       "flex": null,
       "flex_flow": null,
       "grid_area": null,
       "grid_auto_columns": null,
       "grid_auto_flow": null,
       "grid_auto_rows": null,
       "grid_column": null,
       "grid_gap": null,
       "grid_row": null,
       "grid_template_areas": null,
       "grid_template_columns": null,
       "grid_template_rows": null,
       "height": null,
       "justify_content": null,
       "justify_items": null,
       "left": null,
       "margin": null,
       "max_height": null,
       "max_width": null,
       "min_height": null,
       "min_width": null,
       "object_fit": null,
       "object_position": null,
       "order": null,
       "overflow": null,
       "overflow_x": null,
       "overflow_y": null,
       "padding": null,
       "right": null,
       "top": null,
       "visibility": null,
       "width": null
      }
     },
     "d2d96ac270d54269b6614cca53001676": {
      "model_module": "@jupyter-widgets/controls",
      "model_module_version": "1.5.0",
      "model_name": "FloatProgressModel",
      "state": {
       "_dom_classes": [],
       "_model_module": "@jupyter-widgets/controls",
       "_model_module_version": "1.5.0",
       "_model_name": "FloatProgressModel",
       "_view_count": null,
       "_view_module": "@jupyter-widgets/controls",
       "_view_module_version": "1.5.0",
       "_view_name": "ProgressView",
       "bar_style": "success",
       "description": "",
       "description_tooltip": null,
       "layout": "IPY_MODEL_ae6ba83ef7534c4b98521acb9d62b8dd",
       "max": 500.0,
       "min": 0.0,
       "orientation": "horizontal",
       "style": "IPY_MODEL_6d8aa5d5c7c1477da03f9e5122dab6bc",
       "value": 500.0
      }
     }
    },
    "version_major": 2,
    "version_minor": 0
   }
  }
 },
 "nbformat": 4,
 "nbformat_minor": 5
}
